{
  "cells": [
    {
      "cell_type": "markdown",
      "metadata": {
        "id": "view-in-github",
        "colab_type": "text"
      },
      "source": [
        "<a href=\"https://colab.research.google.com/github/GouravSwain2566/CC-FEB-DATA_SCIENCE/blob/main/TASK_2_Market_Basket_Analysis_in_Python_using_Apriori_Algorithm.ipynb\" target=\"_parent\"><img src=\"https://colab.research.google.com/assets/colab-badge.svg\" alt=\"Open In Colab\"/></a>"
      ]
    },
    {
      "cell_type": "code",
      "source": [
        "from google.colab import drive\n",
        "drive.mount('/content/drive/')"
      ],
      "metadata": {
        "id": "oMR_WzHwxitr",
        "colab": {
          "base_uri": "https://localhost:8080/"
        },
        "outputId": "35f2f89e-7c48-4561-c6a5-a3ef3ade0a9e"
      },
      "execution_count": null,
      "outputs": [
        {
          "output_type": "stream",
          "name": "stdout",
          "text": [
            "Mounted at /content/drive/\n"
          ]
        }
      ]
    },
    {
      "cell_type": "code",
      "source": [
        "import os\n",
        "os.getcwd()"
      ],
      "metadata": {
        "id": "LQHNXSgAxoHX",
        "colab": {
          "base_uri": "https://localhost:8080/",
          "height": 36
        },
        "outputId": "c82ab1b9-a937-479c-9ced-f4dcc0c3f622"
      },
      "execution_count": null,
      "outputs": [
        {
          "output_type": "execute_result",
          "data": {
            "text/plain": [
              "'/content'"
            ],
            "application/vnd.google.colaboratory.intrinsic+json": {
              "type": "string"
            }
          },
          "metadata": {},
          "execution_count": 3
        }
      ]
    },
    {
      "cell_type": "code",
      "execution_count": null,
      "metadata": {
        "id": "DknmMO-sxEoZ"
      },
      "outputs": [],
      "source": [
        "#Loading neccesary packages\n",
        "import numpy as np\n",
        "import pandas as pd\n",
        "from mlxtend.frequent_patterns import apriori\n",
        "from mlxtend.frequent_patterns import association_rules\n",
        "import matplotlib.pyplot as plt\n",
        "import seaborn as sns\n",
        "from pandas.plotting import parallel_coordinates"
      ]
    },
    {
      "cell_type": "code",
      "execution_count": null,
      "metadata": {
        "id": "4EUncwW2xEof"
      },
      "outputs": [],
      "source": [
        "#Reading Data From Web\n",
        "grocery_df = pd.read_csv(\"/content/drive/MyDrive/IR LAB/Groceries.csv\")"
      ]
    },
    {
      "cell_type": "code",
      "source": [
        "grocery_df.head()"
      ],
      "metadata": {
        "colab": {
          "base_uri": "https://localhost:8080/",
          "height": 206
        },
        "id": "9n2W9Eh7zEga",
        "outputId": "0f731ac2-a969-4a3f-9937-25563267dff8"
      },
      "execution_count": null,
      "outputs": [
        {
          "output_type": "execute_result",
          "data": {
            "text/plain": [
              "   Member_number        Date   itemDescription  year  month  day  day_of_week\n",
              "0           1808  2015-07-21    tropical fruit  2015      7   21            1\n",
              "1           2552  2015-05-01        whole milk  2015      5    1            4\n",
              "2           2300  2015-09-19         pip fruit  2015      9   19            5\n",
              "3           1187  2015-12-12  other vegetables  2015     12   12            5\n",
              "4           3037  2015-01-02        whole milk  2015      1    2            4"
            ],
            "text/html": [
              "\n",
              "  <div id=\"df-5ce43452-53ff-4298-8ce2-bc4e3e280538\">\n",
              "    <div class=\"colab-df-container\">\n",
              "      <div>\n",
              "<style scoped>\n",
              "    .dataframe tbody tr th:only-of-type {\n",
              "        vertical-align: middle;\n",
              "    }\n",
              "\n",
              "    .dataframe tbody tr th {\n",
              "        vertical-align: top;\n",
              "    }\n",
              "\n",
              "    .dataframe thead th {\n",
              "        text-align: right;\n",
              "    }\n",
              "</style>\n",
              "<table border=\"1\" class=\"dataframe\">\n",
              "  <thead>\n",
              "    <tr style=\"text-align: right;\">\n",
              "      <th></th>\n",
              "      <th>Member_number</th>\n",
              "      <th>Date</th>\n",
              "      <th>itemDescription</th>\n",
              "      <th>year</th>\n",
              "      <th>month</th>\n",
              "      <th>day</th>\n",
              "      <th>day_of_week</th>\n",
              "    </tr>\n",
              "  </thead>\n",
              "  <tbody>\n",
              "    <tr>\n",
              "      <th>0</th>\n",
              "      <td>1808</td>\n",
              "      <td>2015-07-21</td>\n",
              "      <td>tropical fruit</td>\n",
              "      <td>2015</td>\n",
              "      <td>7</td>\n",
              "      <td>21</td>\n",
              "      <td>1</td>\n",
              "    </tr>\n",
              "    <tr>\n",
              "      <th>1</th>\n",
              "      <td>2552</td>\n",
              "      <td>2015-05-01</td>\n",
              "      <td>whole milk</td>\n",
              "      <td>2015</td>\n",
              "      <td>5</td>\n",
              "      <td>1</td>\n",
              "      <td>4</td>\n",
              "    </tr>\n",
              "    <tr>\n",
              "      <th>2</th>\n",
              "      <td>2300</td>\n",
              "      <td>2015-09-19</td>\n",
              "      <td>pip fruit</td>\n",
              "      <td>2015</td>\n",
              "      <td>9</td>\n",
              "      <td>19</td>\n",
              "      <td>5</td>\n",
              "    </tr>\n",
              "    <tr>\n",
              "      <th>3</th>\n",
              "      <td>1187</td>\n",
              "      <td>2015-12-12</td>\n",
              "      <td>other vegetables</td>\n",
              "      <td>2015</td>\n",
              "      <td>12</td>\n",
              "      <td>12</td>\n",
              "      <td>5</td>\n",
              "    </tr>\n",
              "    <tr>\n",
              "      <th>4</th>\n",
              "      <td>3037</td>\n",
              "      <td>2015-01-02</td>\n",
              "      <td>whole milk</td>\n",
              "      <td>2015</td>\n",
              "      <td>1</td>\n",
              "      <td>2</td>\n",
              "      <td>4</td>\n",
              "    </tr>\n",
              "  </tbody>\n",
              "</table>\n",
              "</div>\n",
              "      <button class=\"colab-df-convert\" onclick=\"convertToInteractive('df-5ce43452-53ff-4298-8ce2-bc4e3e280538')\"\n",
              "              title=\"Convert this dataframe to an interactive table.\"\n",
              "              style=\"display:none;\">\n",
              "        \n",
              "  <svg xmlns=\"http://www.w3.org/2000/svg\" height=\"24px\"viewBox=\"0 0 24 24\"\n",
              "       width=\"24px\">\n",
              "    <path d=\"M0 0h24v24H0V0z\" fill=\"none\"/>\n",
              "    <path d=\"M18.56 5.44l.94 2.06.94-2.06 2.06-.94-2.06-.94-.94-2.06-.94 2.06-2.06.94zm-11 1L8.5 8.5l.94-2.06 2.06-.94-2.06-.94L8.5 2.5l-.94 2.06-2.06.94zm10 10l.94 2.06.94-2.06 2.06-.94-2.06-.94-.94-2.06-.94 2.06-2.06.94z\"/><path d=\"M17.41 7.96l-1.37-1.37c-.4-.4-.92-.59-1.43-.59-.52 0-1.04.2-1.43.59L10.3 9.45l-7.72 7.72c-.78.78-.78 2.05 0 2.83L4 21.41c.39.39.9.59 1.41.59.51 0 1.02-.2 1.41-.59l7.78-7.78 2.81-2.81c.8-.78.8-2.07 0-2.86zM5.41 20L4 18.59l7.72-7.72 1.47 1.35L5.41 20z\"/>\n",
              "  </svg>\n",
              "      </button>\n",
              "      \n",
              "  <style>\n",
              "    .colab-df-container {\n",
              "      display:flex;\n",
              "      flex-wrap:wrap;\n",
              "      gap: 12px;\n",
              "    }\n",
              "\n",
              "    .colab-df-convert {\n",
              "      background-color: #E8F0FE;\n",
              "      border: none;\n",
              "      border-radius: 50%;\n",
              "      cursor: pointer;\n",
              "      display: none;\n",
              "      fill: #1967D2;\n",
              "      height: 32px;\n",
              "      padding: 0 0 0 0;\n",
              "      width: 32px;\n",
              "    }\n",
              "\n",
              "    .colab-df-convert:hover {\n",
              "      background-color: #E2EBFA;\n",
              "      box-shadow: 0px 1px 2px rgba(60, 64, 67, 0.3), 0px 1px 3px 1px rgba(60, 64, 67, 0.15);\n",
              "      fill: #174EA6;\n",
              "    }\n",
              "\n",
              "    [theme=dark] .colab-df-convert {\n",
              "      background-color: #3B4455;\n",
              "      fill: #D2E3FC;\n",
              "    }\n",
              "\n",
              "    [theme=dark] .colab-df-convert:hover {\n",
              "      background-color: #434B5C;\n",
              "      box-shadow: 0px 1px 3px 1px rgba(0, 0, 0, 0.15);\n",
              "      filter: drop-shadow(0px 1px 2px rgba(0, 0, 0, 0.3));\n",
              "      fill: #FFFFFF;\n",
              "    }\n",
              "  </style>\n",
              "\n",
              "      <script>\n",
              "        const buttonEl =\n",
              "          document.querySelector('#df-5ce43452-53ff-4298-8ce2-bc4e3e280538 button.colab-df-convert');\n",
              "        buttonEl.style.display =\n",
              "          google.colab.kernel.accessAllowed ? 'block' : 'none';\n",
              "\n",
              "        async function convertToInteractive(key) {\n",
              "          const element = document.querySelector('#df-5ce43452-53ff-4298-8ce2-bc4e3e280538');\n",
              "          const dataTable =\n",
              "            await google.colab.kernel.invokeFunction('convertToInteractive',\n",
              "                                                     [key], {});\n",
              "          if (!dataTable) return;\n",
              "\n",
              "          const docLinkHtml = 'Like what you see? Visit the ' +\n",
              "            '<a target=\"_blank\" href=https://colab.research.google.com/notebooks/data_table.ipynb>data table notebook</a>'\n",
              "            + ' to learn more about interactive tables.';\n",
              "          element.innerHTML = '';\n",
              "          dataTable['output_type'] = 'display_data';\n",
              "          await google.colab.output.renderOutput(dataTable, element);\n",
              "          const docLink = document.createElement('div');\n",
              "          docLink.innerHTML = docLinkHtml;\n",
              "          element.appendChild(docLink);\n",
              "        }\n",
              "      </script>\n",
              "    </div>\n",
              "  </div>\n",
              "  "
            ]
          },
          "metadata": {},
          "execution_count": 6
        }
      ]
    },
    {
      "cell_type": "code",
      "source": [
        "len(grocery_df)"
      ],
      "metadata": {
        "colab": {
          "base_uri": "https://localhost:8080/"
        },
        "id": "UBIU5lG1-PLu",
        "outputId": "81ce7e06-e50d-4ab2-d689-b6e7d39ab7f4"
      },
      "execution_count": null,
      "outputs": [
        {
          "output_type": "execute_result",
          "data": {
            "text/plain": [
              "38765"
            ]
          },
          "metadata": {},
          "execution_count": 7
        }
      ]
    },
    {
      "cell_type": "code",
      "source": [
        "grocery_df.isna().sum()"
      ],
      "metadata": {
        "colab": {
          "base_uri": "https://localhost:8080/"
        },
        "id": "KPYvAJJw-u16",
        "outputId": "4de7a1b2-6eab-432b-bd54-3555f4b92776"
      },
      "execution_count": null,
      "outputs": [
        {
          "output_type": "execute_result",
          "data": {
            "text/plain": [
              "Member_number      0\n",
              "Date               0\n",
              "itemDescription    0\n",
              "year               0\n",
              "month              0\n",
              "day                0\n",
              "day_of_week        0\n",
              "dtype: int64"
            ]
          },
          "metadata": {},
          "execution_count": 8
        }
      ]
    },
    {
      "cell_type": "code",
      "source": [
        "len(grocery_df[grocery_df.duplicated(keep='first')==True])"
      ],
      "metadata": {
        "colab": {
          "base_uri": "https://localhost:8080/"
        },
        "id": "Y22h1yAg-8w7",
        "outputId": "19bbc381-83b3-4ca6-bba3-a05c29ecdc72"
      },
      "execution_count": null,
      "outputs": [
        {
          "output_type": "execute_result",
          "data": {
            "text/plain": [
              "759"
            ]
          },
          "metadata": {},
          "execution_count": 9
        }
      ]
    },
    {
      "cell_type": "code",
      "source": [
        "grocery_df.drop_duplicates(inplace=True)"
      ],
      "metadata": {
        "id": "HcscNIqv-9X_"
      },
      "execution_count": null,
      "outputs": []
    },
    {
      "cell_type": "code",
      "source": [
        "grocery_df.dtypes"
      ],
      "metadata": {
        "colab": {
          "base_uri": "https://localhost:8080/"
        },
        "id": "ugnEZhiS-9bC",
        "outputId": "c8638d82-c1a9-43a2-cbea-99a74142cc43"
      },
      "execution_count": null,
      "outputs": [
        {
          "output_type": "execute_result",
          "data": {
            "text/plain": [
              "Member_number       int64\n",
              "Date               object\n",
              "itemDescription    object\n",
              "year                int64\n",
              "month               int64\n",
              "day                 int64\n",
              "day_of_week         int64\n",
              "dtype: object"
            ]
          },
          "metadata": {},
          "execution_count": 11
        }
      ]
    },
    {
      "cell_type": "code",
      "source": [
        "grocery_df['itemDescription'].value_counts(ascending=False).reset_index()"
      ],
      "metadata": {
        "colab": {
          "base_uri": "https://localhost:8080/",
          "height": 423
        },
        "id": "vVn3Ybc9-9eN",
        "outputId": "593c3690-41ca-4add-bad7-952bbd74fed8"
      },
      "execution_count": null,
      "outputs": [
        {
          "output_type": "execute_result",
          "data": {
            "text/plain": [
              "                     index  itemDescription\n",
              "0               whole milk             2363\n",
              "1         other vegetables             1827\n",
              "2               rolls/buns             1646\n",
              "3                     soda             1453\n",
              "4                   yogurt             1285\n",
              "..                     ...              ...\n",
              "162        rubbing alcohol                5\n",
              "163                   bags                4\n",
              "164         baby cosmetics                3\n",
              "165        kitchen utensil                1\n",
              "166  preservation products                1\n",
              "\n",
              "[167 rows x 2 columns]"
            ],
            "text/html": [
              "\n",
              "  <div id=\"df-614955c9-074f-477e-8813-c8bc18be116c\">\n",
              "    <div class=\"colab-df-container\">\n",
              "      <div>\n",
              "<style scoped>\n",
              "    .dataframe tbody tr th:only-of-type {\n",
              "        vertical-align: middle;\n",
              "    }\n",
              "\n",
              "    .dataframe tbody tr th {\n",
              "        vertical-align: top;\n",
              "    }\n",
              "\n",
              "    .dataframe thead th {\n",
              "        text-align: right;\n",
              "    }\n",
              "</style>\n",
              "<table border=\"1\" class=\"dataframe\">\n",
              "  <thead>\n",
              "    <tr style=\"text-align: right;\">\n",
              "      <th></th>\n",
              "      <th>index</th>\n",
              "      <th>itemDescription</th>\n",
              "    </tr>\n",
              "  </thead>\n",
              "  <tbody>\n",
              "    <tr>\n",
              "      <th>0</th>\n",
              "      <td>whole milk</td>\n",
              "      <td>2363</td>\n",
              "    </tr>\n",
              "    <tr>\n",
              "      <th>1</th>\n",
              "      <td>other vegetables</td>\n",
              "      <td>1827</td>\n",
              "    </tr>\n",
              "    <tr>\n",
              "      <th>2</th>\n",
              "      <td>rolls/buns</td>\n",
              "      <td>1646</td>\n",
              "    </tr>\n",
              "    <tr>\n",
              "      <th>3</th>\n",
              "      <td>soda</td>\n",
              "      <td>1453</td>\n",
              "    </tr>\n",
              "    <tr>\n",
              "      <th>4</th>\n",
              "      <td>yogurt</td>\n",
              "      <td>1285</td>\n",
              "    </tr>\n",
              "    <tr>\n",
              "      <th>...</th>\n",
              "      <td>...</td>\n",
              "      <td>...</td>\n",
              "    </tr>\n",
              "    <tr>\n",
              "      <th>162</th>\n",
              "      <td>rubbing alcohol</td>\n",
              "      <td>5</td>\n",
              "    </tr>\n",
              "    <tr>\n",
              "      <th>163</th>\n",
              "      <td>bags</td>\n",
              "      <td>4</td>\n",
              "    </tr>\n",
              "    <tr>\n",
              "      <th>164</th>\n",
              "      <td>baby cosmetics</td>\n",
              "      <td>3</td>\n",
              "    </tr>\n",
              "    <tr>\n",
              "      <th>165</th>\n",
              "      <td>kitchen utensil</td>\n",
              "      <td>1</td>\n",
              "    </tr>\n",
              "    <tr>\n",
              "      <th>166</th>\n",
              "      <td>preservation products</td>\n",
              "      <td>1</td>\n",
              "    </tr>\n",
              "  </tbody>\n",
              "</table>\n",
              "<p>167 rows × 2 columns</p>\n",
              "</div>\n",
              "      <button class=\"colab-df-convert\" onclick=\"convertToInteractive('df-614955c9-074f-477e-8813-c8bc18be116c')\"\n",
              "              title=\"Convert this dataframe to an interactive table.\"\n",
              "              style=\"display:none;\">\n",
              "        \n",
              "  <svg xmlns=\"http://www.w3.org/2000/svg\" height=\"24px\"viewBox=\"0 0 24 24\"\n",
              "       width=\"24px\">\n",
              "    <path d=\"M0 0h24v24H0V0z\" fill=\"none\"/>\n",
              "    <path d=\"M18.56 5.44l.94 2.06.94-2.06 2.06-.94-2.06-.94-.94-2.06-.94 2.06-2.06.94zm-11 1L8.5 8.5l.94-2.06 2.06-.94-2.06-.94L8.5 2.5l-.94 2.06-2.06.94zm10 10l.94 2.06.94-2.06 2.06-.94-2.06-.94-.94-2.06-.94 2.06-2.06.94z\"/><path d=\"M17.41 7.96l-1.37-1.37c-.4-.4-.92-.59-1.43-.59-.52 0-1.04.2-1.43.59L10.3 9.45l-7.72 7.72c-.78.78-.78 2.05 0 2.83L4 21.41c.39.39.9.59 1.41.59.51 0 1.02-.2 1.41-.59l7.78-7.78 2.81-2.81c.8-.78.8-2.07 0-2.86zM5.41 20L4 18.59l7.72-7.72 1.47 1.35L5.41 20z\"/>\n",
              "  </svg>\n",
              "      </button>\n",
              "      \n",
              "  <style>\n",
              "    .colab-df-container {\n",
              "      display:flex;\n",
              "      flex-wrap:wrap;\n",
              "      gap: 12px;\n",
              "    }\n",
              "\n",
              "    .colab-df-convert {\n",
              "      background-color: #E8F0FE;\n",
              "      border: none;\n",
              "      border-radius: 50%;\n",
              "      cursor: pointer;\n",
              "      display: none;\n",
              "      fill: #1967D2;\n",
              "      height: 32px;\n",
              "      padding: 0 0 0 0;\n",
              "      width: 32px;\n",
              "    }\n",
              "\n",
              "    .colab-df-convert:hover {\n",
              "      background-color: #E2EBFA;\n",
              "      box-shadow: 0px 1px 2px rgba(60, 64, 67, 0.3), 0px 1px 3px 1px rgba(60, 64, 67, 0.15);\n",
              "      fill: #174EA6;\n",
              "    }\n",
              "\n",
              "    [theme=dark] .colab-df-convert {\n",
              "      background-color: #3B4455;\n",
              "      fill: #D2E3FC;\n",
              "    }\n",
              "\n",
              "    [theme=dark] .colab-df-convert:hover {\n",
              "      background-color: #434B5C;\n",
              "      box-shadow: 0px 1px 3px 1px rgba(0, 0, 0, 0.15);\n",
              "      filter: drop-shadow(0px 1px 2px rgba(0, 0, 0, 0.3));\n",
              "      fill: #FFFFFF;\n",
              "    }\n",
              "  </style>\n",
              "\n",
              "      <script>\n",
              "        const buttonEl =\n",
              "          document.querySelector('#df-614955c9-074f-477e-8813-c8bc18be116c button.colab-df-convert');\n",
              "        buttonEl.style.display =\n",
              "          google.colab.kernel.accessAllowed ? 'block' : 'none';\n",
              "\n",
              "        async function convertToInteractive(key) {\n",
              "          const element = document.querySelector('#df-614955c9-074f-477e-8813-c8bc18be116c');\n",
              "          const dataTable =\n",
              "            await google.colab.kernel.invokeFunction('convertToInteractive',\n",
              "                                                     [key], {});\n",
              "          if (!dataTable) return;\n",
              "\n",
              "          const docLinkHtml = 'Like what you see? Visit the ' +\n",
              "            '<a target=\"_blank\" href=https://colab.research.google.com/notebooks/data_table.ipynb>data table notebook</a>'\n",
              "            + ' to learn more about interactive tables.';\n",
              "          element.innerHTML = '';\n",
              "          dataTable['output_type'] = 'display_data';\n",
              "          await google.colab.output.renderOutput(dataTable, element);\n",
              "          const docLink = document.createElement('div');\n",
              "          docLink.innerHTML = docLinkHtml;\n",
              "          element.appendChild(docLink);\n",
              "        }\n",
              "      </script>\n",
              "    </div>\n",
              "  </div>\n",
              "  "
            ]
          },
          "metadata": {},
          "execution_count": 12
        }
      ]
    },
    {
      "cell_type": "code",
      "source": [
        "date_df= grocery_df.groupby('Date')['itemDescription'].count().reset_index()"
      ],
      "metadata": {
        "id": "pH0iAelk-9hC"
      },
      "execution_count": null,
      "outputs": []
    },
    {
      "cell_type": "code",
      "source": [
        "plt.figure(figsize=(10,6), dpi=150)\n",
        "sns.lineplot(data= date_df, x='Date', y='itemDescription')\n",
        "plt.xlabel('Date')\n",
        "plt.ylabel('Number of Items Sold')"
      ],
      "metadata": {
        "colab": {
          "base_uri": "https://localhost:8080/",
          "height": 806
        },
        "id": "fdDW3Sh6-9jz",
        "outputId": "9175a46b-6fb9-421d-ceec-32c079397da0"
      },
      "execution_count": null,
      "outputs": [
        {
          "output_type": "execute_result",
          "data": {
            "text/plain": [
              "Text(0, 0.5, 'Number of Items Sold')"
            ]
          },
          "metadata": {},
          "execution_count": 14
        },
        {
          "output_type": "display_data",
          "data": {
            "text/plain": [
              "<Figure size 1500x900 with 1 Axes>"
            ],
            "image/png": "[encoded data removed]"
          },
          "metadata": {
            "needs_background": "light"
          }
        }
      ]
    },
    {
      "cell_type": "code",
      "source": [
        "grocery_df.groupby('Date')['itemDescription'].count().idxmax()"
      ],
      "metadata": {
        "colab": {
          "base_uri": "https://localhost:8080/",
          "height": 36
        },
        "id": "2WmF7IuO-9mO",
        "outputId": "d81fb9fe-d078-41d9-9180-bdca3b3b8c7a"
      },
      "execution_count": null,
      "outputs": [
        {
          "output_type": "execute_result",
          "data": {
            "text/plain": [
              "'2015-01-21'"
            ],
            "application/vnd.google.colaboratory.intrinsic+json": {
              "type": "string"
            }
          },
          "metadata": {},
          "execution_count": 15
        }
      ]
    },
    {
      "cell_type": "code",
      "source": [
        "grocery_df.groupby('Date')['itemDescription'].count().idxmin()"
      ],
      "metadata": {
        "colab": {
          "base_uri": "https://localhost:8080/",
          "height": 36
        },
        "id": "vfiztHdZ-9pF",
        "outputId": "8fed5a87-7c80-4743-e7f7-64f1452f61ec"
      },
      "execution_count": null,
      "outputs": [
        {
          "output_type": "execute_result",
          "data": {
            "text/plain": [
              "'2015-01-09'"
            ],
            "application/vnd.google.colaboratory.intrinsic+json": {
              "type": "string"
            }
          },
          "metadata": {},
          "execution_count": 16
        }
      ]
    },
    {
      "cell_type": "code",
      "source": [
        "plt.figure(figsize=(5,3), dpi=150)\n",
        "grocery_df.itemDescription.value_counts(ascending=False).reset_index().head(5).plot(kind='bar', x='index')\n",
        "plt.xlabel('Product', size= 12)\n",
        "plt.ylabel('Number Sold', size= 12)\n",
        "plt.show()"
      ],
      "metadata": {
        "colab": {
          "base_uri": "https://localhost:8080/",
          "height": 374
        },
        "id": "qCaJK_8V-9rb",
        "outputId": "b13dbab2-57de-4e49-d960-7fb3433d3001"
      },
      "execution_count": null,
      "outputs": [
        {
          "output_type": "display_data",
          "data": {
            "text/plain": [
              "<Figure size 750x450 with 0 Axes>"
            ]
          },
          "metadata": {}
        },
        {
          "output_type": "display_data",
          "data": {
            "text/plain": [
              "<Figure size 432x288 with 1 Axes>"
            ],
            "image/png": "[encoded data removed]"
          },
          "metadata": {
            "needs_background": "light"
          }
        }
      ]
    },
    {
      "cell_type": "code",
      "source": [
        "grocery_df[(grocery_df.Member_number==1808) & (grocery_df.Date== '2015-07-21')]"
      ],
      "metadata": {
        "colab": {
          "base_uri": "https://localhost:8080/",
          "height": 143
        },
        "id": "eCOJd-Nl-9uH",
        "outputId": "1c2e8d26-b983-4fd8-d8e9-ccef1c42babb"
      },
      "execution_count": null,
      "outputs": [
        {
          "output_type": "execute_result",
          "data": {
            "text/plain": [
              "       Member_number        Date itemDescription  year  month  day  \\\n",
              "0               1808  2015-07-21  tropical fruit  2015      7   21   \n",
              "16149           1808  2015-07-21      rolls/buns  2015      7   21   \n",
              "36088           1808  2015-07-21           candy  2015      7   21   \n",
              "\n",
              "       day_of_week  \n",
              "0                1  \n",
              "16149            1  \n",
              "36088            1  "
            ],
            "text/html": [
              "\n",
              "  <div id=\"df-0c266e09-a4e5-4261-ad99-bf540c66c7a6\">\n",
              "    <div class=\"colab-df-container\">\n",
              "      <div>\n",
              "<style scoped>\n",
              "    .dataframe tbody tr th:only-of-type {\n",
              "        vertical-align: middle;\n",
              "    }\n",
              "\n",
              "    .dataframe tbody tr th {\n",
              "        vertical-align: top;\n",
              "    }\n",
              "\n",
              "    .dataframe thead th {\n",
              "        text-align: right;\n",
              "    }\n",
              "</style>\n",
              "<table border=\"1\" class=\"dataframe\">\n",
              "  <thead>\n",
              "    <tr style=\"text-align: right;\">\n",
              "      <th></th>\n",
              "      <th>Member_number</th>\n",
              "      <th>Date</th>\n",
              "      <th>itemDescription</th>\n",
              "      <th>year</th>\n",
              "      <th>month</th>\n",
              "      <th>day</th>\n",
              "      <th>day_of_week</th>\n",
              "    </tr>\n",
              "  </thead>\n",
              "  <tbody>\n",
              "    <tr>\n",
              "      <th>0</th>\n",
              "      <td>1808</td>\n",
              "      <td>2015-07-21</td>\n",
              "      <td>tropical fruit</td>\n",
              "      <td>2015</td>\n",
              "      <td>7</td>\n",
              "      <td>21</td>\n",
              "      <td>1</td>\n",
              "    </tr>\n",
              "    <tr>\n",
              "      <th>16149</th>\n",
              "      <td>1808</td>\n",
              "      <td>2015-07-21</td>\n",
              "      <td>rolls/buns</td>\n",
              "      <td>2015</td>\n",
              "      <td>7</td>\n",
              "      <td>21</td>\n",
              "      <td>1</td>\n",
              "    </tr>\n",
              "    <tr>\n",
              "      <th>36088</th>\n",
              "      <td>1808</td>\n",
              "      <td>2015-07-21</td>\n",
              "      <td>candy</td>\n",
              "      <td>2015</td>\n",
              "      <td>7</td>\n",
              "      <td>21</td>\n",
              "      <td>1</td>\n",
              "    </tr>\n",
              "  </tbody>\n",
              "</table>\n",
              "</div>\n",
              "      <button class=\"colab-df-convert\" onclick=\"convertToInteractive('df-0c266e09-a4e5-4261-ad99-bf540c66c7a6')\"\n",
              "              title=\"Convert this dataframe to an interactive table.\"\n",
              "              style=\"display:none;\">\n",
              "        \n",
              "  <svg xmlns=\"http://www.w3.org/2000/svg\" height=\"24px\"viewBox=\"0 0 24 24\"\n",
              "       width=\"24px\">\n",
              "    <path d=\"M0 0h24v24H0V0z\" fill=\"none\"/>\n",
              "    <path d=\"M18.56 5.44l.94 2.06.94-2.06 2.06-.94-2.06-.94-.94-2.06-.94 2.06-2.06.94zm-11 1L8.5 8.5l.94-2.06 2.06-.94-2.06-.94L8.5 2.5l-.94 2.06-2.06.94zm10 10l.94 2.06.94-2.06 2.06-.94-2.06-.94-.94-2.06-.94 2.06-2.06.94z\"/><path d=\"M17.41 7.96l-1.37-1.37c-.4-.4-.92-.59-1.43-.59-.52 0-1.04.2-1.43.59L10.3 9.45l-7.72 7.72c-.78.78-.78 2.05 0 2.83L4 21.41c.39.39.9.59 1.41.59.51 0 1.02-.2 1.41-.59l7.78-7.78 2.81-2.81c.8-.78.8-2.07 0-2.86zM5.41 20L4 18.59l7.72-7.72 1.47 1.35L5.41 20z\"/>\n",
              "  </svg>\n",
              "      </button>\n",
              "      \n",
              "  <style>\n",
              "    .colab-df-container {\n",
              "      display:flex;\n",
              "      flex-wrap:wrap;\n",
              "      gap: 12px;\n",
              "    }\n",
              "\n",
              "    .colab-df-convert {\n",
              "      background-color: #E8F0FE;\n",
              "      border: none;\n",
              "      border-radius: 50%;\n",
              "      cursor: pointer;\n",
              "      display: none;\n",
              "      fill: #1967D2;\n",
              "      height: 32px;\n",
              "      padding: 0 0 0 0;\n",
              "      width: 32px;\n",
              "    }\n",
              "\n",
              "    .colab-df-convert:hover {\n",
              "      background-color: #E2EBFA;\n",
              "      box-shadow: 0px 1px 2px rgba(60, 64, 67, 0.3), 0px 1px 3px 1px rgba(60, 64, 67, 0.15);\n",
              "      fill: #174EA6;\n",
              "    }\n",
              "\n",
              "    [theme=dark] .colab-df-convert {\n",
              "      background-color: #3B4455;\n",
              "      fill: #D2E3FC;\n",
              "    }\n",
              "\n",
              "    [theme=dark] .colab-df-convert:hover {\n",
              "      background-color: #434B5C;\n",
              "      box-shadow: 0px 1px 3px 1px rgba(0, 0, 0, 0.15);\n",
              "      filter: drop-shadow(0px 1px 2px rgba(0, 0, 0, 0.3));\n",
              "      fill: #FFFFFF;\n",
              "    }\n",
              "  </style>\n",
              "\n",
              "      <script>\n",
              "        const buttonEl =\n",
              "          document.querySelector('#df-0c266e09-a4e5-4261-ad99-bf540c66c7a6 button.colab-df-convert');\n",
              "        buttonEl.style.display =\n",
              "          google.colab.kernel.accessAllowed ? 'block' : 'none';\n",
              "\n",
              "        async function convertToInteractive(key) {\n",
              "          const element = document.querySelector('#df-0c266e09-a4e5-4261-ad99-bf540c66c7a6');\n",
              "          const dataTable =\n",
              "            await google.colab.kernel.invokeFunction('convertToInteractive',\n",
              "                                                     [key], {});\n",
              "          if (!dataTable) return;\n",
              "\n",
              "          const docLinkHtml = 'Like what you see? Visit the ' +\n",
              "            '<a target=\"_blank\" href=https://colab.research.google.com/notebooks/data_table.ipynb>data table notebook</a>'\n",
              "            + ' to learn more about interactive tables.';\n",
              "          element.innerHTML = '';\n",
              "          dataTable['output_type'] = 'display_data';\n",
              "          await google.colab.output.renderOutput(dataTable, element);\n",
              "          const docLink = document.createElement('div');\n",
              "          docLink.innerHTML = docLinkHtml;\n",
              "          element.appendChild(docLink);\n",
              "        }\n",
              "      </script>\n",
              "    </div>\n",
              "  </div>\n",
              "  "
            ]
          },
          "metadata": {},
          "execution_count": 18
        }
      ]
    },
    {
      "cell_type": "code",
      "source": [
        "member = grocery_df.Member_number.values"
      ],
      "metadata": {
        "id": "MdQE5Wqu-9w3"
      },
      "execution_count": null,
      "outputs": []
    },
    {
      "cell_type": "code",
      "source": [
        "dates = grocery_df.Date.values "
      ],
      "metadata": {
        "id": "lOBUNgmp-9zj"
      },
      "execution_count": null,
      "outputs": []
    },
    {
      "cell_type": "code",
      "source": [
        "transactions = [list(grocery_df[(grocery_df['Member_number'] == i[0]) & (grocery_df['Date'] == i[1])].itemDescription) for i in zip(member,dates)]"
      ],
      "metadata": {
        "id": "wvVRmuoc-93T"
      },
      "execution_count": null,
      "outputs": []
    },
    {
      "cell_type": "code",
      "source": [
        "transactions[0]"
      ],
      "metadata": {
        "colab": {
          "base_uri": "https://localhost:8080/"
        },
        "id": "07iAIUMW-96H",
        "outputId": "39e64468-b025-4578-ab22-77240d937b9c"
      },
      "execution_count": null,
      "outputs": [
        {
          "output_type": "execute_result",
          "data": {
            "text/plain": [
              "['tropical fruit', 'rolls/buns', 'candy']"
            ]
          },
          "metadata": {},
          "execution_count": 22
        }
      ]
    },
    {
      "cell_type": "code",
      "source": [
        "print(len(transactions))"
      ],
      "metadata": {
        "colab": {
          "base_uri": "https://localhost:8080/"
        },
        "id": "KUnmx5yc-98p",
        "outputId": "2f5ecdff-b325-465d-fc44-7d25c6bf83f7"
      },
      "execution_count": null,
      "outputs": [
        {
          "output_type": "stream",
          "name": "stdout",
          "text": [
            "38006\n"
          ]
        }
      ]
    },
    {
      "cell_type": "code",
      "source": [
        "from itertools import permutations"
      ],
      "metadata": {
        "id": "78sfFehc-9_N"
      },
      "execution_count": null,
      "outputs": []
    },
    {
      "cell_type": "code",
      "source": [
        "flattenlist= [i for row in transactions for  i in row  ]"
      ],
      "metadata": {
        "id": "q6uPvZ5lAoYQ"
      },
      "execution_count": null,
      "outputs": []
    },
    {
      "cell_type": "code",
      "source": [
        "flattenlist= list(set(flattenlist))"
      ],
      "metadata": {
        "id": "OAYlsw0tAoVc"
      },
      "execution_count": null,
      "outputs": []
    },
    {
      "cell_type": "code",
      "source": [
        "rules = list(permutations(flattenlist,2))"
      ],
      "metadata": {
        "id": "qyCf-ywWAoRR"
      },
      "execution_count": null,
      "outputs": []
    },
    {
      "cell_type": "code",
      "source": [
        "rules[0], len(rules)"
      ],
      "metadata": {
        "colab": {
          "base_uri": "https://localhost:8080/"
        },
        "id": "sx1QK7mAAoOX",
        "outputId": "1a0599d9-85b6-42b3-de4c-f5168f7cdccc"
      },
      "execution_count": null,
      "outputs": [
        {
          "output_type": "execute_result",
          "data": {
            "text/plain": [
              "(('ice cream', 'instant coffee'), 27722)"
            ]
          },
          "metadata": {},
          "execution_count": 28
        }
      ]
    },
    {
      "cell_type": "code",
      "source": [
        "from collections import Counter"
      ],
      "metadata": {
        "id": "UqpAJxesAoLh"
      },
      "execution_count": null,
      "outputs": []
    },
    {
      "cell_type": "code",
      "source": [
        "newlist= []\n",
        "for i in transactions:\n",
        "    newlist.append(tuple(i))"
      ],
      "metadata": {
        "id": "IjmmLcXKAoJF"
      },
      "execution_count": null,
      "outputs": []
    },
    {
      "cell_type": "code",
      "source": [
        "c= Counter(newlist)"
      ],
      "metadata": {
        "id": "T16gw6iYAoGm"
      },
      "execution_count": null,
      "outputs": []
    },
    {
      "cell_type": "code",
      "source": [
        "c.most_common(1)"
      ],
      "metadata": {
        "colab": {
          "base_uri": "https://localhost:8080/"
        },
        "id": "hGmJj3zUAoD8",
        "outputId": "f8dcfd25-bb1b-47ce-aed6-da29e15f9aee"
      },
      "execution_count": null,
      "outputs": [
        {
          "output_type": "execute_result",
          "data": {
            "text/plain": [
              "[(('other vegetables', 'whole milk'), 98)]"
            ]
          },
          "metadata": {},
          "execution_count": 32
        }
      ]
    },
    {
      "cell_type": "code",
      "source": [
        "from mlxtend.preprocessing import TransactionEncoder"
      ],
      "metadata": {
        "id": "SmWltyc5AoBz"
      },
      "execution_count": null,
      "outputs": []
    },
    {
      "cell_type": "code",
      "source": [
        "encoder = TransactionEncoder().fit(transactions)"
      ],
      "metadata": {
        "id": "HWmw_C3EAn_A"
      },
      "execution_count": null,
      "outputs": []
    },
    {
      "cell_type": "code",
      "source": [
        "onehot = encoder.transform(transactions)"
      ],
      "metadata": {
        "id": "CigeW7OaAn8Y"
      },
      "execution_count": null,
      "outputs": []
    },
    {
      "cell_type": "code",
      "source": [
        "onehot = pd.DataFrame(onehot, columns = encoder.columns_)\n",
        "onehot.head()"
      ],
      "metadata": {
        "colab": {
          "base_uri": "https://localhost:8080/",
          "height": 334
        },
        "id": "M9Rvt-V_An35",
        "outputId": "730fcb02-096f-476d-f920-750c8a503927"
      },
      "execution_count": null,
      "outputs": [
        {
          "output_type": "execute_result",
          "data": {
            "text/plain": [
              "   Instant food products  UHT-milk  abrasive cleaner  artif. sweetener  \\\n",
              "0                  False     False             False             False   \n",
              "1                  False     False             False             False   \n",
              "2                  False     False             False             False   \n",
              "3                  False     False             False             False   \n",
              "4                  False     False             False             False   \n",
              "\n",
              "   baby cosmetics   bags  baking powder  bathroom cleaner   beef  berries  \\\n",
              "0           False  False          False             False  False    False   \n",
              "1           False  False          False             False  False    False   \n",
              "2           False  False          False             False  False    False   \n",
              "3           False  False          False             False  False    False   \n",
              "4           False  False          False             False  False    False   \n",
              "\n",
              "   ...  turkey  vinegar  waffles  whipped/sour cream  whisky  white bread  \\\n",
              "0  ...   False    False    False               False   False        False   \n",
              "1  ...   False    False    False               False   False        False   \n",
              "2  ...   False    False    False               False   False        False   \n",
              "3  ...   False    False    False               False   False        False   \n",
              "4  ...   False    False    False               False   False         True   \n",
              "\n",
              "   white wine  whole milk  yogurt  zwieback  \n",
              "0       False       False   False     False  \n",
              "1       False        True   False     False  \n",
              "2       False       False   False     False  \n",
              "3       False       False   False     False  \n",
              "4       False        True   False     False  \n",
              "\n",
              "[5 rows x 167 columns]"
            ],
            "text/html": [
              "\n",
              "  <div id=\"df-e56be517-694b-4535-a5fd-4b4b9a191616\">\n",
              "    <div class=\"colab-df-container\">\n",
              "      <div>\n",
              "<style scoped>\n",
              "    .dataframe tbody tr th:only-of-type {\n",
              "        vertical-align: middle;\n",
              "    }\n",
              "\n",
              "    .dataframe tbody tr th {\n",
              "        vertical-align: top;\n",
              "    }\n",
              "\n",
              "    .dataframe thead th {\n",
              "        text-align: right;\n",
              "    }\n",
              "</style>\n",
              "<table border=\"1\" class=\"dataframe\">\n",
              "  <thead>\n",
              "    <tr style=\"text-align: right;\">\n",
              "      <th></th>\n",
              "      <th>Instant food products</th>\n",
              "      <th>UHT-milk</th>\n",
              "      <th>abrasive cleaner</th>\n",
              "      <th>artif. sweetener</th>\n",
              "      <th>baby cosmetics</th>\n",
              "      <th>bags</th>\n",
              "      <th>baking powder</th>\n",
              "      <th>bathroom cleaner</th>\n",
              "      <th>beef</th>\n",
              "      <th>berries</th>\n",
              "      <th>...</th>\n",
              "      <th>turkey</th>\n",
              "      <th>vinegar</th>\n",
              "      <th>waffles</th>\n",
              "      <th>whipped/sour cream</th>\n",
              "      <th>whisky</th>\n",
              "      <th>white bread</th>\n",
              "      <th>white wine</th>\n",
              "      <th>whole milk</th>\n",
              "      <th>yogurt</th>\n",
              "      <th>zwieback</th>\n",
              "    </tr>\n",
              "  </thead>\n",
              "  <tbody>\n",
              "    <tr>\n",
              "      <th>0</th>\n",
              "      <td>False</td>\n",
              "      <td>False</td>\n",
              "      <td>False</td>\n",
              "      <td>False</td>\n",
              "      <td>False</td>\n",
              "      <td>False</td>\n",
              "      <td>False</td>\n",
              "      <td>False</td>\n",
              "      <td>False</td>\n",
              "      <td>False</td>\n",
              "      <td>...</td>\n",
              "      <td>False</td>\n",
              "      <td>False</td>\n",
              "      <td>False</td>\n",
              "      <td>False</td>\n",
              "      <td>False</td>\n",
              "      <td>False</td>\n",
              "      <td>False</td>\n",
              "      <td>False</td>\n",
              "      <td>False</td>\n",
              "      <td>False</td>\n",
              "    </tr>\n",
              "    <tr>\n",
              "      <th>1</th>\n",
              "      <td>False</td>\n",
              "      <td>False</td>\n",
              "      <td>False</td>\n",
              "      <td>False</td>\n",
              "      <td>False</td>\n",
              "      <td>False</td>\n",
              "      <td>False</td>\n",
              "      <td>False</td>\n",
              "      <td>False</td>\n",
              "      <td>False</td>\n",
              "      <td>...</td>\n",
              "      <td>False</td>\n",
              "      <td>False</td>\n",
              "      <td>False</td>\n",
              "      <td>False</td>\n",
              "      <td>False</td>\n",
              "      <td>False</td>\n",
              "      <td>False</td>\n",
              "      <td>True</td>\n",
              "      <td>False</td>\n",
              "      <td>False</td>\n",
              "    </tr>\n",
              "    <tr>\n",
              "      <th>2</th>\n",
              "      <td>False</td>\n",
              "      <td>False</td>\n",
              "      <td>False</td>\n",
              "      <td>False</td>\n",
              "      <td>False</td>\n",
              "      <td>False</td>\n",
              "      <td>False</td>\n",
              "      <td>False</td>\n",
              "      <td>False</td>\n",
              "      <td>False</td>\n",
              "      <td>...</td>\n",
              "      <td>False</td>\n",
              "      <td>False</td>\n",
              "      <td>False</td>\n",
              "      <td>False</td>\n",
              "      <td>False</td>\n",
              "      <td>False</td>\n",
              "      <td>False</td>\n",
              "      <td>False</td>\n",
              "      <td>False</td>\n",
              "      <td>False</td>\n",
              "    </tr>\n",
              "    <tr>\n",
              "      <th>3</th>\n",
              "      <td>False</td>\n",
              "      <td>False</td>\n",
              "      <td>False</td>\n",
              "      <td>False</td>\n",
              "      <td>False</td>\n",
              "      <td>False</td>\n",
              "      <td>False</td>\n",
              "      <td>False</td>\n",
              "      <td>False</td>\n",
              "      <td>False</td>\n",
              "      <td>...</td>\n",
              "      <td>False</td>\n",
              "      <td>False</td>\n",
              "      <td>False</td>\n",
              "      <td>False</td>\n",
              "      <td>False</td>\n",
              "      <td>False</td>\n",
              "      <td>False</td>\n",
              "      <td>False</td>\n",
              "      <td>False</td>\n",
              "      <td>False</td>\n",
              "    </tr>\n",
              "    <tr>\n",
              "      <th>4</th>\n",
              "      <td>False</td>\n",
              "      <td>False</td>\n",
              "      <td>False</td>\n",
              "      <td>False</td>\n",
              "      <td>False</td>\n",
              "      <td>False</td>\n",
              "      <td>False</td>\n",
              "      <td>False</td>\n",
              "      <td>False</td>\n",
              "      <td>False</td>\n",
              "      <td>...</td>\n",
              "      <td>False</td>\n",
              "      <td>False</td>\n",
              "      <td>False</td>\n",
              "      <td>False</td>\n",
              "      <td>False</td>\n",
              "      <td>True</td>\n",
              "      <td>False</td>\n",
              "      <td>True</td>\n",
              "      <td>False</td>\n",
              "      <td>False</td>\n",
              "    </tr>\n",
              "  </tbody>\n",
              "</table>\n",
              "<p>5 rows × 167 columns</p>\n",
              "</div>\n",
              "      <button class=\"colab-df-convert\" onclick=\"convertToInteractive('df-e56be517-694b-4535-a5fd-4b4b9a191616')\"\n",
              "              title=\"Convert this dataframe to an interactive table.\"\n",
              "              style=\"display:none;\">\n",
              "        \n",
              "  <svg xmlns=\"http://www.w3.org/2000/svg\" height=\"24px\"viewBox=\"0 0 24 24\"\n",
              "       width=\"24px\">\n",
              "    <path d=\"M0 0h24v24H0V0z\" fill=\"none\"/>\n",
              "    <path d=\"M18.56 5.44l.94 2.06.94-2.06 2.06-.94-2.06-.94-.94-2.06-.94 2.06-2.06.94zm-11 1L8.5 8.5l.94-2.06 2.06-.94-2.06-.94L8.5 2.5l-.94 2.06-2.06.94zm10 10l.94 2.06.94-2.06 2.06-.94-2.06-.94-.94-2.06-.94 2.06-2.06.94z\"/><path d=\"M17.41 7.96l-1.37-1.37c-.4-.4-.92-.59-1.43-.59-.52 0-1.04.2-1.43.59L10.3 9.45l-7.72 7.72c-.78.78-.78 2.05 0 2.83L4 21.41c.39.39.9.59 1.41.59.51 0 1.02-.2 1.41-.59l7.78-7.78 2.81-2.81c.8-.78.8-2.07 0-2.86zM5.41 20L4 18.59l7.72-7.72 1.47 1.35L5.41 20z\"/>\n",
              "  </svg>\n",
              "      </button>\n",
              "      \n",
              "  <style>\n",
              "    .colab-df-container {\n",
              "      display:flex;\n",
              "      flex-wrap:wrap;\n",
              "      gap: 12px;\n",
              "    }\n",
              "\n",
              "    .colab-df-convert {\n",
              "      background-color: #E8F0FE;\n",
              "      border: none;\n",
              "      border-radius: 50%;\n",
              "      cursor: pointer;\n",
              "      display: none;\n",
              "      fill: #1967D2;\n",
              "      height: 32px;\n",
              "      padding: 0 0 0 0;\n",
              "      width: 32px;\n",
              "    }\n",
              "\n",
              "    .colab-df-convert:hover {\n",
              "      background-color: #E2EBFA;\n",
              "      box-shadow: 0px 1px 2px rgba(60, 64, 67, 0.3), 0px 1px 3px 1px rgba(60, 64, 67, 0.15);\n",
              "      fill: #174EA6;\n",
              "    }\n",
              "\n",
              "    [theme=dark] .colab-df-convert {\n",
              "      background-color: #3B4455;\n",
              "      fill: #D2E3FC;\n",
              "    }\n",
              "\n",
              "    [theme=dark] .colab-df-convert:hover {\n",
              "      background-color: #434B5C;\n",
              "      box-shadow: 0px 1px 3px 1px rgba(0, 0, 0, 0.15);\n",
              "      filter: drop-shadow(0px 1px 2px rgba(0, 0, 0, 0.3));\n",
              "      fill: #FFFFFF;\n",
              "    }\n",
              "  </style>\n",
              "\n",
              "      <script>\n",
              "        const buttonEl =\n",
              "          document.querySelector('#df-e56be517-694b-4535-a5fd-4b4b9a191616 button.colab-df-convert');\n",
              "        buttonEl.style.display =\n",
              "          google.colab.kernel.accessAllowed ? 'block' : 'none';\n",
              "\n",
              "        async function convertToInteractive(key) {\n",
              "          const element = document.querySelector('#df-e56be517-694b-4535-a5fd-4b4b9a191616');\n",
              "          const dataTable =\n",
              "            await google.colab.kernel.invokeFunction('convertToInteractive',\n",
              "                                                     [key], {});\n",
              "          if (!dataTable) return;\n",
              "\n",
              "          const docLinkHtml = 'Like what you see? Visit the ' +\n",
              "            '<a target=\"_blank\" href=https://colab.research.google.com/notebooks/data_table.ipynb>data table notebook</a>'\n",
              "            + ' to learn more about interactive tables.';\n",
              "          element.innerHTML = '';\n",
              "          dataTable['output_type'] = 'display_data';\n",
              "          await google.colab.output.renderOutput(dataTable, element);\n",
              "          const docLink = document.createElement('div');\n",
              "          docLink.innerHTML = docLinkHtml;\n",
              "          element.appendChild(docLink);\n",
              "        }\n",
              "      </script>\n",
              "    </div>\n",
              "  </div>\n",
              "  "
            ]
          },
          "metadata": {},
          "execution_count": 36
        }
      ]
    },
    {
      "cell_type": "code",
      "source": [
        "len(onehot)"
      ],
      "metadata": {
        "colab": {
          "base_uri": "https://localhost:8080/"
        },
        "id": "SWjlhvbpAn00",
        "outputId": "f6472fc6-59a6-4b1a-9151-fb536e0ab520"
      },
      "execution_count": null,
      "outputs": [
        {
          "output_type": "execute_result",
          "data": {
            "text/plain": [
              "38006"
            ]
          },
          "metadata": {},
          "execution_count": 37
        }
      ]
    },
    {
      "cell_type": "code",
      "source": [
        "print(onehot.mean())"
      ],
      "metadata": {
        "colab": {
          "base_uri": "https://localhost:8080/"
        },
        "id": "Yo75fdUxAnpF",
        "outputId": "24712974-6459-4895-eae2-08e08085ef8b"
      },
      "execution_count": null,
      "outputs": [
        {
          "output_type": "stream",
          "name": "stdout",
          "text": [
            "Instant food products    0.004499\n",
            "UHT-milk                 0.024575\n",
            "abrasive cleaner         0.001921\n",
            "artif. sweetener         0.002947\n",
            "baby cosmetics           0.000316\n",
            "                           ...   \n",
            "white bread              0.029022\n",
            "white wine               0.013840\n",
            "whole milk               0.181445\n",
            "yogurt                   0.100931\n",
            "zwieback                 0.004868\n",
            "Length: 167, dtype: float64\n"
          ]
        }
      ]
    },
    {
      "cell_type": "code",
      "source": [
        "onehot['other vegetables & whole milk'] = np.logical_and(onehot['other vegetables'],onehot['whole milk'])"
      ],
      "metadata": {
        "id": "C3PS9m5sBEhB"
      },
      "execution_count": null,
      "outputs": []
    },
    {
      "cell_type": "code",
      "source": [
        "print(onehot.mean())"
      ],
      "metadata": {
        "colab": {
          "base_uri": "https://localhost:8080/"
        },
        "id": "tdw9bMCBBEd7",
        "outputId": "c38b8c32-24a8-4623-8d54-24b4b5faaae0"
      },
      "execution_count": null,
      "outputs": [
        {
          "output_type": "stream",
          "name": "stdout",
          "text": [
            "Instant food products            0.004499\n",
            "UHT-milk                         0.024575\n",
            "abrasive cleaner                 0.001921\n",
            "artif. sweetener                 0.002947\n",
            "baby cosmetics                   0.000316\n",
            "                                   ...   \n",
            "white wine                       0.013840\n",
            "whole milk                       0.181445\n",
            "yogurt                           0.100931\n",
            "zwieback                         0.004868\n",
            "other vegetables & whole milk    0.021944\n",
            "Length: 168, dtype: float64\n"
          ]
        }
      ]
    },
    {
      "cell_type": "code",
      "source": [
        "support_milk= onehot['whole milk'].mean()\n",
        "support_vegetable= onehot['other vegetables & whole milk'].mean()\n",
        "support_vegandmilk= np.logical_and(onehot['other vegetables'],onehot['whole milk']).mean()"
      ],
      "metadata": {
        "id": "s3F4wZFCBEbP"
      },
      "execution_count": null,
      "outputs": []
    },
    {
      "cell_type": "code",
      "source": [
        "confidence= support_vegandmilk/support_vegetable"
      ],
      "metadata": {
        "id": "J8TUnXnOBEYS"
      },
      "execution_count": null,
      "outputs": []
    },
    {
      "cell_type": "code",
      "source": [
        "print(\"Confidence: \", confidence)"
      ],
      "metadata": {
        "colab": {
          "base_uri": "https://localhost:8080/"
        },
        "id": "CwPJCh3eBNf1",
        "outputId": "bf4fb45f-a269-4a85-8bcf-9b0df3e4ece7"
      },
      "execution_count": null,
      "outputs": [
        {
          "output_type": "stream",
          "name": "stdout",
          "text": [
            "Confidence:  1.0\n"
          ]
        }
      ]
    },
    {
      "cell_type": "code",
      "source": [
        "lift = support_vegandmilk/(support_vegetable* support_milk)"
      ],
      "metadata": {
        "id": "vSzSNB4lBNcy"
      },
      "execution_count": null,
      "outputs": []
    },
    {
      "cell_type": "code",
      "source": [
        "print(\"Lift: \", lift)"
      ],
      "metadata": {
        "colab": {
          "base_uri": "https://localhost:8080/"
        },
        "id": "IS9jtOtbBNZJ",
        "outputId": "0a50c324-42a7-4919-da4a-8219adfd7fb8"
      },
      "execution_count": null,
      "outputs": [
        {
          "output_type": "stream",
          "name": "stdout",
          "text": [
            "Lift:  5.511310904872389\n"
          ]
        }
      ]
    },
    {
      "cell_type": "code",
      "source": [
        "Leverage= support_vegandmilk - (support_vegetable* support_milk)"
      ],
      "metadata": {
        "id": "bWqMLUPhBNVD"
      },
      "execution_count": null,
      "outputs": []
    },
    {
      "cell_type": "code",
      "source": [
        "print(\"Leverage: \", Leverage)"
      ],
      "metadata": {
        "colab": {
          "base_uri": "https://localhost:8080/"
        },
        "id": "KkvQL9rTBabC",
        "outputId": "e693b9f7-da94-452d-b54b-9d9c767d2f67"
      },
      "execution_count": null,
      "outputs": [
        {
          "output_type": "stream",
          "name": "stdout",
          "text": [
            "Leverage:  0.01796229123860991\n"
          ]
        }
      ]
    },
    {
      "cell_type": "code",
      "source": [
        "support_milk= onehot['whole milk'].mean()\n",
        "support_vegetable= onehot['other vegetables & whole milk'].mean()\n",
        "support_vegandmilk= np.logical_and(onehot['other vegetables'],onehot['whole milk']).mean()"
      ],
      "metadata": {
        "id": "z-3zub1VBaXl"
      },
      "execution_count": null,
      "outputs": []
    },
    {
      "cell_type": "code",
      "source": [
        "num = support_vegandmilk - support_milk*support_vegetable"
      ],
      "metadata": {
        "id": "X1qbP_6dBaUb"
      },
      "execution_count": null,
      "outputs": []
    },
    {
      "cell_type": "code",
      "source": [
        "denom = max(support_vegandmilk*(1-support_vegetable), support_vegetable*(support_milk-support_vegandmilk))"
      ],
      "metadata": {
        "id": "BwPcRl5dBaPY"
      },
      "execution_count": null,
      "outputs": []
    },
    {
      "cell_type": "code",
      "source": [
        "zhang = num / denom\n",
        "print(\"Zhang Metric\" ,zhang)"
      ],
      "metadata": {
        "colab": {
          "base_uri": "https://localhost:8080/"
        },
        "id": "cmTNTgDFBka9",
        "outputId": "87dc4858-2363-4de5-c07f-c019ace19d25"
      },
      "execution_count": null,
      "outputs": [
        {
          "output_type": "stream",
          "name": "stdout",
          "text": [
            "Zhang Metric 0.8369202625632196\n"
          ]
        }
      ]
    },
    {
      "cell_type": "code",
      "source": [
        "frequent_itemsets = apriori(onehot, min_support = 0.01, max_len = 3, use_colnames = True)"
      ],
      "metadata": {
        "id": "Sz4eg_IcBkV3"
      },
      "execution_count": null,
      "outputs": []
    },
    {
      "cell_type": "code",
      "source": [
        "print(len(frequent_itemsets))"
      ],
      "metadata": {
        "colab": {
          "base_uri": "https://localhost:8080/"
        },
        "id": "ReLif9nJBkR4",
        "outputId": "be197954-e95f-451f-9c2a-1f5b8c948e26"
      },
      "execution_count": null,
      "outputs": [
        {
          "output_type": "stream",
          "name": "stdout",
          "text": [
            "92\n"
          ]
        }
      ]
    },
    {
      "cell_type": "code",
      "source": [
        "frequent_itemsets.head()"
      ],
      "metadata": {
        "colab": {
          "base_uri": "https://localhost:8080/",
          "height": 287
        },
        "id": "Odn3DLxPBsLA",
        "outputId": "09a5a54e-e2d3-46db-ddf7-190c62c6752f"
      },
      "execution_count": null,
      "outputs": [
        {
          "output_type": "execute_result",
          "data": {
            "text/plain": [
              "    support        itemsets\n",
              "0  0.024575      (UHT-milk)\n",
              "1  0.039599          (beef)\n",
              "2  0.024917       (berries)\n",
              "3  0.019365     (beverages)\n",
              "4  0.054860  (bottled beer)"
            ],
            "text/html": [
              "\n",
              "  <div id=\"df-75793bc7-7f8d-4de3-8b9b-8149c2a07de7\">\n",
              "    <div class=\"colab-df-container\">\n",
              "      <div>\n",
              "<style scoped>\n",
              "    .dataframe tbody tr th:only-of-type {\n",
              "        vertical-align: middle;\n",
              "    }\n",
              "\n",
              "    .dataframe tbody tr th {\n",
              "        vertical-align: top;\n",
              "    }\n",
              "\n",
              "    .dataframe thead th {\n",
              "        text-align: right;\n",
              "    }\n",
              "</style>\n",
              "<table border=\"1\" class=\"dataframe\">\n",
              "  <thead>\n",
              "    <tr style=\"text-align: right;\">\n",
              "      <th></th>\n",
              "      <th>support</th>\n",
              "      <th>itemsets</th>\n",
              "    </tr>\n",
              "  </thead>\n",
              "  <tbody>\n",
              "    <tr>\n",
              "      <th>0</th>\n",
              "      <td>0.024575</td>\n",
              "      <td>(UHT-milk)</td>\n",
              "    </tr>\n",
              "    <tr>\n",
              "      <th>1</th>\n",
              "      <td>0.039599</td>\n",
              "      <td>(beef)</td>\n",
              "    </tr>\n",
              "    <tr>\n",
              "      <th>2</th>\n",
              "      <td>0.024917</td>\n",
              "      <td>(berries)</td>\n",
              "    </tr>\n",
              "    <tr>\n",
              "      <th>3</th>\n",
              "      <td>0.019365</td>\n",
              "      <td>(beverages)</td>\n",
              "    </tr>\n",
              "    <tr>\n",
              "      <th>4</th>\n",
              "      <td>0.054860</td>\n",
              "      <td>(bottled beer)</td>\n",
              "    </tr>\n",
              "  </tbody>\n",
              "</table>\n",
              "</div>\n",
              "      <button class=\"colab-df-convert\" onclick=\"convertToInteractive('df-75793bc7-7f8d-4de3-8b9b-8149c2a07de7')\"\n",
              "              title=\"Convert this dataframe to an interactive table.\"\n",
              "              style=\"display:none;\">\n",
              "        \n",
              "  <svg xmlns=\"http://www.w3.org/2000/svg\" height=\"24px\"viewBox=\"0 0 24 24\"\n",
              "       width=\"24px\">\n",
              "    <path d=\"M0 0h24v24H0V0z\" fill=\"none\"/>\n",
              "    <path d=\"M18.56 5.44l.94 2.06.94-2.06 2.06-.94-2.06-.94-.94-2.06-.94 2.06-2.06.94zm-11 1L8.5 8.5l.94-2.06 2.06-.94-2.06-.94L8.5 2.5l-.94 2.06-2.06.94zm10 10l.94 2.06.94-2.06 2.06-.94-2.06-.94-.94-2.06-.94 2.06-2.06.94z\"/><path d=\"M17.41 7.96l-1.37-1.37c-.4-.4-.92-.59-1.43-.59-.52 0-1.04.2-1.43.59L10.3 9.45l-7.72 7.72c-.78.78-.78 2.05 0 2.83L4 21.41c.39.39.9.59 1.41.59.51 0 1.02-.2 1.41-.59l7.78-7.78 2.81-2.81c.8-.78.8-2.07 0-2.86zM5.41 20L4 18.59l7.72-7.72 1.47 1.35L5.41 20z\"/>\n",
              "  </svg>\n",
              "      </button>\n",
              "      \n",
              "  <style>\n",
              "    .colab-df-container {\n",
              "      display:flex;\n",
              "      flex-wrap:wrap;\n",
              "      gap: 12px;\n",
              "    }\n",
              "\n",
              "    .colab-df-convert {\n",
              "      background-color: #E8F0FE;\n",
              "      border: none;\n",
              "      border-radius: 50%;\n",
              "      cursor: pointer;\n",
              "      display: none;\n",
              "      fill: #1967D2;\n",
              "      height: 32px;\n",
              "      padding: 0 0 0 0;\n",
              "      width: 32px;\n",
              "    }\n",
              "\n",
              "    .colab-df-convert:hover {\n",
              "      background-color: #E2EBFA;\n",
              "      box-shadow: 0px 1px 2px rgba(60, 64, 67, 0.3), 0px 1px 3px 1px rgba(60, 64, 67, 0.15);\n",
              "      fill: #174EA6;\n",
              "    }\n",
              "\n",
              "    [theme=dark] .colab-df-convert {\n",
              "      background-color: #3B4455;\n",
              "      fill: #D2E3FC;\n",
              "    }\n",
              "\n",
              "    [theme=dark] .colab-df-convert:hover {\n",
              "      background-color: #434B5C;\n",
              "      box-shadow: 0px 1px 3px 1px rgba(0, 0, 0, 0.15);\n",
              "      filter: drop-shadow(0px 1px 2px rgba(0, 0, 0, 0.3));\n",
              "      fill: #FFFFFF;\n",
              "    }\n",
              "  </style>\n",
              "\n",
              "      <script>\n",
              "        const buttonEl =\n",
              "          document.querySelector('#df-75793bc7-7f8d-4de3-8b9b-8149c2a07de7 button.colab-df-convert');\n",
              "        buttonEl.style.display =\n",
              "          google.colab.kernel.accessAllowed ? 'block' : 'none';\n",
              "\n",
              "        async function convertToInteractive(key) {\n",
              "          const element = document.querySelector('#df-75793bc7-7f8d-4de3-8b9b-8149c2a07de7');\n",
              "          const dataTable =\n",
              "            await google.colab.kernel.invokeFunction('convertToInteractive',\n",
              "                                                     [key], {});\n",
              "          if (!dataTable) return;\n",
              "\n",
              "          const docLinkHtml = 'Like what you see? Visit the ' +\n",
              "            '<a target=\"_blank\" href=https://colab.research.google.com/notebooks/data_table.ipynb>data table notebook</a>'\n",
              "            + ' to learn more about interactive tables.';\n",
              "          element.innerHTML = '';\n",
              "          dataTable['output_type'] = 'display_data';\n",
              "          await google.colab.output.renderOutput(dataTable, element);\n",
              "          const docLink = document.createElement('div');\n",
              "          docLink.innerHTML = docLinkHtml;\n",
              "          element.appendChild(docLink);\n",
              "        }\n",
              "      </script>\n",
              "    </div>\n",
              "  </div>\n",
              "  "
            ]
          },
          "metadata": {},
          "execution_count": 54
        }
      ]
    },
    {
      "cell_type": "code",
      "source": [
        "from mlxtend.frequent_patterns import apriori, association_rules"
      ],
      "metadata": {
        "id": "uMO85d5MBsIL"
      },
      "execution_count": null,
      "outputs": []
    },
    {
      "cell_type": "code",
      "source": [
        "frequent_itemsets = apriori(onehot, use_colnames=True, min_support=0.01, max_len = 2)"
      ],
      "metadata": {
        "id": "qk-5sR5CBsFB"
      },
      "execution_count": null,
      "outputs": []
    },
    {
      "cell_type": "code",
      "source": [
        "rules = association_rules(frequent_itemsets,metric = \"support\",min_threshold = 0.0)"
      ],
      "metadata": {
        "id": "HsDGJc2SBsB3"
      },
      "execution_count": null,
      "outputs": []
    },
    {
      "cell_type": "code",
      "source": [
        "rules.head()"
      ],
      "metadata": {
        "colab": {
          "base_uri": "https://localhost:8080/",
          "height": 322
        },
        "id": "HPJ-jyvvB1gm",
        "outputId": "5bb467ff-024d-4adf-bbd6-e930e4ab021c"
      },
      "execution_count": null,
      "outputs": [
        {
          "output_type": "execute_result",
          "data": {
            "text/plain": [
              "       antecedents      consequents  antecedent support  consequent support  \\\n",
              "0     (whole milk)   (bottled beer)            0.181445            0.054860   \n",
              "1   (bottled beer)     (whole milk)            0.054860            0.181445   \n",
              "2     (whole milk)  (bottled water)            0.181445            0.069226   \n",
              "3  (bottled water)     (whole milk)            0.069226            0.181445   \n",
              "4   (citrus fruit)     (whole milk)            0.060911            0.181445   \n",
              "\n",
              "    support  confidence      lift  leverage  conviction  \n",
              "0  0.010472    0.057715  1.052039  0.000518    1.003030  \n",
              "1  0.010472    0.190887  1.052039  0.000518    1.011670  \n",
              "2  0.010209    0.056265  0.812766 -0.002352    0.986266  \n",
              "3  0.010209    0.147472  0.812766 -0.002352    0.960151  \n",
              "4  0.011261    0.184881  1.018938  0.000209    1.004216  "
            ],
            "text/html": [
              "\n",
              "  <div id=\"df-780ed284-e057-45f1-b774-da72936098f9\">\n",
              "    <div class=\"colab-df-container\">\n",
              "      <div>\n",
              "<style scoped>\n",
              "    .dataframe tbody tr th:only-of-type {\n",
              "        vertical-align: middle;\n",
              "    }\n",
              "\n",
              "    .dataframe tbody tr th {\n",
              "        vertical-align: top;\n",
              "    }\n",
              "\n",
              "    .dataframe thead th {\n",
              "        text-align: right;\n",
              "    }\n",
              "</style>\n",
              "<table border=\"1\" class=\"dataframe\">\n",
              "  <thead>\n",
              "    <tr style=\"text-align: right;\">\n",
              "      <th></th>\n",
              "      <th>antecedents</th>\n",
              "      <th>consequents</th>\n",
              "      <th>antecedent support</th>\n",
              "      <th>consequent support</th>\n",
              "      <th>support</th>\n",
              "      <th>confidence</th>\n",
              "      <th>lift</th>\n",
              "      <th>leverage</th>\n",
              "      <th>conviction</th>\n",
              "    </tr>\n",
              "  </thead>\n",
              "  <tbody>\n",
              "    <tr>\n",
              "      <th>0</th>\n",
              "      <td>(whole milk)</td>\n",
              "      <td>(bottled beer)</td>\n",
              "      <td>0.181445</td>\n",
              "      <td>0.054860</td>\n",
              "      <td>0.010472</td>\n",
              "      <td>0.057715</td>\n",
              "      <td>1.052039</td>\n",
              "      <td>0.000518</td>\n",
              "      <td>1.003030</td>\n",
              "    </tr>\n",
              "    <tr>\n",
              "      <th>1</th>\n",
              "      <td>(bottled beer)</td>\n",
              "      <td>(whole milk)</td>\n",
              "      <td>0.054860</td>\n",
              "      <td>0.181445</td>\n",
              "      <td>0.010472</td>\n",
              "      <td>0.190887</td>\n",
              "      <td>1.052039</td>\n",
              "      <td>0.000518</td>\n",
              "      <td>1.011670</td>\n",
              "    </tr>\n",
              "    <tr>\n",
              "      <th>2</th>\n",
              "      <td>(whole milk)</td>\n",
              "      <td>(bottled water)</td>\n",
              "      <td>0.181445</td>\n",
              "      <td>0.069226</td>\n",
              "      <td>0.010209</td>\n",
              "      <td>0.056265</td>\n",
              "      <td>0.812766</td>\n",
              "      <td>-0.002352</td>\n",
              "      <td>0.986266</td>\n",
              "    </tr>\n",
              "    <tr>\n",
              "      <th>3</th>\n",
              "      <td>(bottled water)</td>\n",
              "      <td>(whole milk)</td>\n",
              "      <td>0.069226</td>\n",
              "      <td>0.181445</td>\n",
              "      <td>0.010209</td>\n",
              "      <td>0.147472</td>\n",
              "      <td>0.812766</td>\n",
              "      <td>-0.002352</td>\n",
              "      <td>0.960151</td>\n",
              "    </tr>\n",
              "    <tr>\n",
              "      <th>4</th>\n",
              "      <td>(citrus fruit)</td>\n",
              "      <td>(whole milk)</td>\n",
              "      <td>0.060911</td>\n",
              "      <td>0.181445</td>\n",
              "      <td>0.011261</td>\n",
              "      <td>0.184881</td>\n",
              "      <td>1.018938</td>\n",
              "      <td>0.000209</td>\n",
              "      <td>1.004216</td>\n",
              "    </tr>\n",
              "  </tbody>\n",
              "</table>\n",
              "</div>\n",
              "      <button class=\"colab-df-convert\" onclick=\"convertToInteractive('df-780ed284-e057-45f1-b774-da72936098f9')\"\n",
              "              title=\"Convert this dataframe to an interactive table.\"\n",
              "              style=\"display:none;\">\n",
              "        \n",
              "  <svg xmlns=\"http://www.w3.org/2000/svg\" height=\"24px\"viewBox=\"0 0 24 24\"\n",
              "       width=\"24px\">\n",
              "    <path d=\"M0 0h24v24H0V0z\" fill=\"none\"/>\n",
              "    <path d=\"M18.56 5.44l.94 2.06.94-2.06 2.06-.94-2.06-.94-.94-2.06-.94 2.06-2.06.94zm-11 1L8.5 8.5l.94-2.06 2.06-.94-2.06-.94L8.5 2.5l-.94 2.06-2.06.94zm10 10l.94 2.06.94-2.06 2.06-.94-2.06-.94-.94-2.06-.94 2.06-2.06.94z\"/><path d=\"M17.41 7.96l-1.37-1.37c-.4-.4-.92-.59-1.43-.59-.52 0-1.04.2-1.43.59L10.3 9.45l-7.72 7.72c-.78.78-.78 2.05 0 2.83L4 21.41c.39.39.9.59 1.41.59.51 0 1.02-.2 1.41-.59l7.78-7.78 2.81-2.81c.8-.78.8-2.07 0-2.86zM5.41 20L4 18.59l7.72-7.72 1.47 1.35L5.41 20z\"/>\n",
              "  </svg>\n",
              "      </button>\n",
              "      \n",
              "  <style>\n",
              "    .colab-df-container {\n",
              "      display:flex;\n",
              "      flex-wrap:wrap;\n",
              "      gap: 12px;\n",
              "    }\n",
              "\n",
              "    .colab-df-convert {\n",
              "      background-color: #E8F0FE;\n",
              "      border: none;\n",
              "      border-radius: 50%;\n",
              "      cursor: pointer;\n",
              "      display: none;\n",
              "      fill: #1967D2;\n",
              "      height: 32px;\n",
              "      padding: 0 0 0 0;\n",
              "      width: 32px;\n",
              "    }\n",
              "\n",
              "    .colab-df-convert:hover {\n",
              "      background-color: #E2EBFA;\n",
              "      box-shadow: 0px 1px 2px rgba(60, 64, 67, 0.3), 0px 1px 3px 1px rgba(60, 64, 67, 0.15);\n",
              "      fill: #174EA6;\n",
              "    }\n",
              "\n",
              "    [theme=dark] .colab-df-convert {\n",
              "      background-color: #3B4455;\n",
              "      fill: #D2E3FC;\n",
              "    }\n",
              "\n",
              "    [theme=dark] .colab-df-convert:hover {\n",
              "      background-color: #434B5C;\n",
              "      box-shadow: 0px 1px 3px 1px rgba(0, 0, 0, 0.15);\n",
              "      filter: drop-shadow(0px 1px 2px rgba(0, 0, 0, 0.3));\n",
              "      fill: #FFFFFF;\n",
              "    }\n",
              "  </style>\n",
              "\n",
              "      <script>\n",
              "        const buttonEl =\n",
              "          document.querySelector('#df-780ed284-e057-45f1-b774-da72936098f9 button.colab-df-convert');\n",
              "        buttonEl.style.display =\n",
              "          google.colab.kernel.accessAllowed ? 'block' : 'none';\n",
              "\n",
              "        async function convertToInteractive(key) {\n",
              "          const element = document.querySelector('#df-780ed284-e057-45f1-b774-da72936098f9');\n",
              "          const dataTable =\n",
              "            await google.colab.kernel.invokeFunction('convertToInteractive',\n",
              "                                                     [key], {});\n",
              "          if (!dataTable) return;\n",
              "\n",
              "          const docLinkHtml = 'Like what you see? Visit the ' +\n",
              "            '<a target=\"_blank\" href=https://colab.research.google.com/notebooks/data_table.ipynb>data table notebook</a>'\n",
              "            + ' to learn more about interactive tables.';\n",
              "          element.innerHTML = '';\n",
              "          dataTable['output_type'] = 'display_data';\n",
              "          await google.colab.output.renderOutput(dataTable, element);\n",
              "          const docLink = document.createElement('div');\n",
              "          docLink.innerHTML = docLinkHtml;\n",
              "          element.appendChild(docLink);\n",
              "        }\n",
              "      </script>\n",
              "    </div>\n",
              "  </div>\n",
              "  "
            ]
          },
          "metadata": {},
          "execution_count": 58
        }
      ]
    },
    {
      "cell_type": "code",
      "source": [
        "len(rules)"
      ],
      "metadata": {
        "colab": {
          "base_uri": "https://localhost:8080/"
        },
        "id": "fheupRysB1dq",
        "outputId": "33ee58a2-6c98-4be8-cbb4-979ba3d0e5bf"
      },
      "execution_count": null,
      "outputs": [
        {
          "output_type": "execute_result",
          "data": {
            "text/plain": [
              "42"
            ]
          },
          "metadata": {},
          "execution_count": 59
        }
      ]
    },
    {
      "cell_type": "code",
      "source": [
        "rules.consequents.unique()"
      ],
      "metadata": {
        "colab": {
          "base_uri": "https://localhost:8080/"
        },
        "id": "QnvKT0omB1aS",
        "outputId": "338540aa-8e1e-4936-9027-599631209e7d"
      },
      "execution_count": null,
      "outputs": [
        {
          "output_type": "execute_result",
          "data": {
            "text/plain": [
              "array([frozenset({'bottled beer'}), frozenset({'whole milk'}),\n",
              "       frozenset({'bottled water'}), frozenset({'citrus fruit'}),\n",
              "       frozenset({'other vegetables'}), frozenset({'rolls/buns'}),\n",
              "       frozenset({'sausage'}), frozenset({'soda'}), frozenset({'yogurt'}),\n",
              "       frozenset({'other vegetables & whole milk'}),\n",
              "       frozenset({'pastry'}), frozenset({'root vegetables'}),\n",
              "       frozenset({'tropical fruit'})], dtype=object)"
            ]
          },
          "metadata": {},
          "execution_count": 60
        }
      ]
    },
    {
      "cell_type": "code",
      "source": [
        "def zhangs_rule(rules):\n",
        "    rule_support = rules['support'].copy()\n",
        "    rule_ante = rules['antecedent support'].copy()\n",
        "    rule_conseq = rules['consequent support'].copy()\n",
        "    num = rule_support - (rule_ante * rule_conseq)\n",
        "    denom = np.max((rule_support * (1 - rule_ante).values, \n",
        "                          rule_ante * (rule_conseq - rule_support).values), axis = 0)\n",
        "    return num / denom\n",
        "\n",
        "rules_zhangs_list = zhangs_rule(rules)\n",
        "rules = rules.assign(zhang = rules_zhangs_list)\n",
        "rules.head()"
      ],
      "metadata": {
        "colab": {
          "base_uri": "https://localhost:8080/",
          "height": 322
        },
        "id": "Z_W3yvauB82h",
        "outputId": "bdb34641-760c-4b75-95ba-ff8c58be18d1"
      },
      "execution_count": null,
      "outputs": [
        {
          "output_type": "execute_result",
          "data": {
            "text/plain": [
              "       antecedents      consequents  antecedent support  consequent support  \\\n",
              "0     (whole milk)   (bottled beer)            0.181445            0.054860   \n",
              "1   (bottled beer)     (whole milk)            0.054860            0.181445   \n",
              "2     (whole milk)  (bottled water)            0.181445            0.069226   \n",
              "3  (bottled water)     (whole milk)            0.069226            0.181445   \n",
              "4   (citrus fruit)     (whole milk)            0.060911            0.181445   \n",
              "\n",
              "    support  confidence      lift  leverage  conviction     zhang  \n",
              "0  0.010472    0.057715  1.052039  0.000518    1.003030  0.060430  \n",
              "1  0.010472    0.190887  1.052039  0.000518    1.011670  0.052336  \n",
              "2  0.010209    0.056265  0.812766 -0.002352    0.986266 -0.219622  \n",
              "3  0.010209    0.147472  0.812766 -0.002352    0.960151 -0.198396  \n",
              "4  0.011261    0.184881  1.018938  0.000209    1.004216  0.019791  "
            ],
            "text/html": [
              "\n",
              "  <div id=\"df-06eb0685-202a-4b96-a051-ddaea97b6236\">\n",
              "    <div class=\"colab-df-container\">\n",
              "      <div>\n",
              "<style scoped>\n",
              "    .dataframe tbody tr th:only-of-type {\n",
              "        vertical-align: middle;\n",
              "    }\n",
              "\n",
              "    .dataframe tbody tr th {\n",
              "        vertical-align: top;\n",
              "    }\n",
              "\n",
              "    .dataframe thead th {\n",
              "        text-align: right;\n",
              "    }\n",
              "</style>\n",
              "<table border=\"1\" class=\"dataframe\">\n",
              "  <thead>\n",
              "    <tr style=\"text-align: right;\">\n",
              "      <th></th>\n",
              "      <th>antecedents</th>\n",
              "      <th>consequents</th>\n",
              "      <th>antecedent support</th>\n",
              "      <th>consequent support</th>\n",
              "      <th>support</th>\n",
              "      <th>confidence</th>\n",
              "      <th>lift</th>\n",
              "      <th>leverage</th>\n",
              "      <th>conviction</th>\n",
              "      <th>zhang</th>\n",
              "    </tr>\n",
              "  </thead>\n",
              "  <tbody>\n",
              "    <tr>\n",
              "      <th>0</th>\n",
              "      <td>(whole milk)</td>\n",
              "      <td>(bottled beer)</td>\n",
              "      <td>0.181445</td>\n",
              "      <td>0.054860</td>\n",
              "      <td>0.010472</td>\n",
              "      <td>0.057715</td>\n",
              "      <td>1.052039</td>\n",
              "      <td>0.000518</td>\n",
              "      <td>1.003030</td>\n",
              "      <td>0.060430</td>\n",
              "    </tr>\n",
              "    <tr>\n",
              "      <th>1</th>\n",
              "      <td>(bottled beer)</td>\n",
              "      <td>(whole milk)</td>\n",
              "      <td>0.054860</td>\n",
              "      <td>0.181445</td>\n",
              "      <td>0.010472</td>\n",
              "      <td>0.190887</td>\n",
              "      <td>1.052039</td>\n",
              "      <td>0.000518</td>\n",
              "      <td>1.011670</td>\n",
              "      <td>0.052336</td>\n",
              "    </tr>\n",
              "    <tr>\n",
              "      <th>2</th>\n",
              "      <td>(whole milk)</td>\n",
              "      <td>(bottled water)</td>\n",
              "      <td>0.181445</td>\n",
              "      <td>0.069226</td>\n",
              "      <td>0.010209</td>\n",
              "      <td>0.056265</td>\n",
              "      <td>0.812766</td>\n",
              "      <td>-0.002352</td>\n",
              "      <td>0.986266</td>\n",
              "      <td>-0.219622</td>\n",
              "    </tr>\n",
              "    <tr>\n",
              "      <th>3</th>\n",
              "      <td>(bottled water)</td>\n",
              "      <td>(whole milk)</td>\n",
              "      <td>0.069226</td>\n",
              "      <td>0.181445</td>\n",
              "      <td>0.010209</td>\n",
              "      <td>0.147472</td>\n",
              "      <td>0.812766</td>\n",
              "      <td>-0.002352</td>\n",
              "      <td>0.960151</td>\n",
              "      <td>-0.198396</td>\n",
              "    </tr>\n",
              "    <tr>\n",
              "      <th>4</th>\n",
              "      <td>(citrus fruit)</td>\n",
              "      <td>(whole milk)</td>\n",
              "      <td>0.060911</td>\n",
              "      <td>0.181445</td>\n",
              "      <td>0.011261</td>\n",
              "      <td>0.184881</td>\n",
              "      <td>1.018938</td>\n",
              "      <td>0.000209</td>\n",
              "      <td>1.004216</td>\n",
              "      <td>0.019791</td>\n",
              "    </tr>\n",
              "  </tbody>\n",
              "</table>\n",
              "</div>\n",
              "      <button class=\"colab-df-convert\" onclick=\"convertToInteractive('df-06eb0685-202a-4b96-a051-ddaea97b6236')\"\n",
              "              title=\"Convert this dataframe to an interactive table.\"\n",
              "              style=\"display:none;\">\n",
              "        \n",
              "  <svg xmlns=\"http://www.w3.org/2000/svg\" height=\"24px\"viewBox=\"0 0 24 24\"\n",
              "       width=\"24px\">\n",
              "    <path d=\"M0 0h24v24H0V0z\" fill=\"none\"/>\n",
              "    <path d=\"M18.56 5.44l.94 2.06.94-2.06 2.06-.94-2.06-.94-.94-2.06-.94 2.06-2.06.94zm-11 1L8.5 8.5l.94-2.06 2.06-.94-2.06-.94L8.5 2.5l-.94 2.06-2.06.94zm10 10l.94 2.06.94-2.06 2.06-.94-2.06-.94-.94-2.06-.94 2.06-2.06.94z\"/><path d=\"M17.41 7.96l-1.37-1.37c-.4-.4-.92-.59-1.43-.59-.52 0-1.04.2-1.43.59L10.3 9.45l-7.72 7.72c-.78.78-.78 2.05 0 2.83L4 21.41c.39.39.9.59 1.41.59.51 0 1.02-.2 1.41-.59l7.78-7.78 2.81-2.81c.8-.78.8-2.07 0-2.86zM5.41 20L4 18.59l7.72-7.72 1.47 1.35L5.41 20z\"/>\n",
              "  </svg>\n",
              "      </button>\n",
              "      \n",
              "  <style>\n",
              "    .colab-df-container {\n",
              "      display:flex;\n",
              "      flex-wrap:wrap;\n",
              "      gap: 12px;\n",
              "    }\n",
              "\n",
              "    .colab-df-convert {\n",
              "      background-color: #E8F0FE;\n",
              "      border: none;\n",
              "      border-radius: 50%;\n",
              "      cursor: pointer;\n",
              "      display: none;\n",
              "      fill: #1967D2;\n",
              "      height: 32px;\n",
              "      padding: 0 0 0 0;\n",
              "      width: 32px;\n",
              "    }\n",
              "\n",
              "    .colab-df-convert:hover {\n",
              "      background-color: #E2EBFA;\n",
              "      box-shadow: 0px 1px 2px rgba(60, 64, 67, 0.3), 0px 1px 3px 1px rgba(60, 64, 67, 0.15);\n",
              "      fill: #174EA6;\n",
              "    }\n",
              "\n",
              "    [theme=dark] .colab-df-convert {\n",
              "      background-color: #3B4455;\n",
              "      fill: #D2E3FC;\n",
              "    }\n",
              "\n",
              "    [theme=dark] .colab-df-convert:hover {\n",
              "      background-color: #434B5C;\n",
              "      box-shadow: 0px 1px 3px 1px rgba(0, 0, 0, 0.15);\n",
              "      filter: drop-shadow(0px 1px 2px rgba(0, 0, 0, 0.3));\n",
              "      fill: #FFFFFF;\n",
              "    }\n",
              "  </style>\n",
              "\n",
              "      <script>\n",
              "        const buttonEl =\n",
              "          document.querySelector('#df-06eb0685-202a-4b96-a051-ddaea97b6236 button.colab-df-convert');\n",
              "        buttonEl.style.display =\n",
              "          google.colab.kernel.accessAllowed ? 'block' : 'none';\n",
              "\n",
              "        async function convertToInteractive(key) {\n",
              "          const element = document.querySelector('#df-06eb0685-202a-4b96-a051-ddaea97b6236');\n",
              "          const dataTable =\n",
              "            await google.colab.kernel.invokeFunction('convertToInteractive',\n",
              "                                                     [key], {});\n",
              "          if (!dataTable) return;\n",
              "\n",
              "          const docLinkHtml = 'Like what you see? Visit the ' +\n",
              "            '<a target=\"_blank\" href=https://colab.research.google.com/notebooks/data_table.ipynb>data table notebook</a>'\n",
              "            + ' to learn more about interactive tables.';\n",
              "          element.innerHTML = '';\n",
              "          dataTable['output_type'] = 'display_data';\n",
              "          await google.colab.output.renderOutput(dataTable, element);\n",
              "          const docLink = document.createElement('div');\n",
              "          docLink.innerHTML = docLinkHtml;\n",
              "          element.appendChild(docLink);\n",
              "        }\n",
              "      </script>\n",
              "    </div>\n",
              "  </div>\n",
              "  "
            ]
          },
          "metadata": {},
          "execution_count": 61
        }
      ]
    },
    {
      "cell_type": "code",
      "source": [
        "rules[rules.zhang<=0]"
      ],
      "metadata": {
        "colab": {
          "base_uri": "https://localhost:8080/",
          "height": 1000
        },
        "id": "TrgM904gB8zs",
        "outputId": "4cabac3f-56d7-467a-f451-5e48b5687f72"
      },
      "execution_count": null,
      "outputs": [
        {
          "output_type": "execute_result",
          "data": {
            "text/plain": [
              "           antecedents         consequents  antecedent support  \\\n",
              "2         (whole milk)     (bottled water)            0.181445   \n",
              "3      (bottled water)        (whole milk)            0.069226   \n",
              "6         (rolls/buns)  (other vegetables)            0.126822   \n",
              "7   (other vegetables)        (rolls/buns)            0.136531   \n",
              "10              (soda)  (other vegetables)            0.111482   \n",
              "11  (other vegetables)              (soda)            0.136531   \n",
              "12        (whole milk)  (other vegetables)            0.181445   \n",
              "13  (other vegetables)        (whole milk)            0.136531   \n",
              "14            (yogurt)  (other vegetables)            0.100931   \n",
              "15  (other vegetables)            (yogurt)            0.136531   \n",
              "18        (whole milk)            (pastry)            0.181445   \n",
              "19            (pastry)        (whole milk)            0.060596   \n",
              "20        (rolls/buns)              (soda)            0.126822   \n",
              "21              (soda)        (rolls/buns)            0.111482   \n",
              "22        (rolls/buns)        (whole milk)            0.126822   \n",
              "23        (whole milk)        (rolls/buns)            0.181445   \n",
              "24        (rolls/buns)            (yogurt)            0.126822   \n",
              "25            (yogurt)        (rolls/buns)            0.100931   \n",
              "26        (whole milk)   (root vegetables)            0.181445   \n",
              "27   (root vegetables)        (whole milk)            0.079198   \n",
              "34        (whole milk)              (soda)            0.181445   \n",
              "35              (soda)        (whole milk)            0.111482   \n",
              "36        (whole milk)    (tropical fruit)            0.181445   \n",
              "37    (tropical fruit)        (whole milk)            0.079356   \n",
              "\n",
              "    consequent support   support  confidence      lift  leverage  conviction  \\\n",
              "2             0.069226  0.010209    0.056265  0.812766 -0.002352    0.986266   \n",
              "3             0.181445  0.010209    0.147472  0.812766 -0.002352    0.960151   \n",
              "6             0.136531  0.015576    0.122822  0.899587 -0.001739    0.984371   \n",
              "7             0.126822  0.015576    0.114087  0.899587 -0.001739    0.985625   \n",
              "10            0.136531  0.013945    0.125089  0.916191 -0.001276    0.986921   \n",
              "11            0.111482  0.013945    0.102139  0.916191 -0.001276    0.989594   \n",
              "12            0.136531  0.021944    0.120940  0.885803 -0.002829    0.982264   \n",
              "13            0.181445  0.021944    0.160725  0.885803 -0.002829    0.975312   \n",
              "14            0.136531  0.012288    0.121741  0.891675 -0.001493    0.983160   \n",
              "15            0.100931  0.012288    0.089998  0.891675 -0.001493    0.987985   \n",
              "18            0.060596  0.010472    0.057715  0.952454 -0.000523    0.996942   \n",
              "19            0.181445  0.010472    0.172818  0.952454 -0.000523    0.989571   \n",
              "20            0.111482  0.012209    0.096266  0.863505 -0.001930    0.983162   \n",
              "21            0.126822  0.012209    0.109511  0.863505 -0.001930    0.980561   \n",
              "22            0.181445  0.021865    0.172407  0.950187 -0.001146    0.989079   \n",
              "23            0.126822  0.021865    0.120505  0.950187 -0.001146    0.992817   \n",
              "24            0.100931  0.012498    0.098548  0.976383 -0.000302    0.997356   \n",
              "25            0.126822  0.012498    0.123827  0.976383 -0.000302    0.996582   \n",
              "26            0.079198  0.011156    0.061485  0.776344 -0.003214    0.981126   \n",
              "27            0.181445  0.011156    0.140864  0.776344 -0.003214    0.952765   \n",
              "34            0.111482  0.018155    0.100058  0.897523 -0.002073    0.987305   \n",
              "35            0.181445  0.018155    0.162851  0.897523 -0.002073    0.977789   \n",
              "36            0.079356  0.012735    0.070186  0.884441 -0.001664    0.990138   \n",
              "37            0.181445  0.012735    0.160477  0.884441 -0.001664    0.975024   \n",
              "\n",
              "       zhang  \n",
              "2  -0.219622  \n",
              "3  -0.198396  \n",
              "6  -0.113344  \n",
              "7  -0.114473  \n",
              "10 -0.093343  \n",
              "11 -0.095792  \n",
              "12 -0.136066  \n",
              "13 -0.129908  \n",
              "14 -0.119038  \n",
              "15 -0.123340  \n",
              "18 -0.057479  \n",
              "19 -0.050458  \n",
              "20 -0.153282  \n",
              "21 -0.151035  \n",
              "22 -0.056639  \n",
              "23 -0.060191  \n",
              "24 -0.026955  \n",
              "25 -0.026199  \n",
              "26 -0.260326  \n",
              "27 -0.238308  \n",
              "34 -0.122412  \n",
              "35 -0.113871  \n",
              "36 -0.137648  \n",
              "37 -0.124282  "
            ],
            "text/html": [
              "\n",
              "  <div id=\"df-aad0de11-cd53-4745-baa4-11d9df752ba5\">\n",
              "    <div class=\"colab-df-container\">\n",
              "      <div>\n",
              "<style scoped>\n",
              "    .dataframe tbody tr th:only-of-type {\n",
              "        vertical-align: middle;\n",
              "    }\n",
              "\n",
              "    .dataframe tbody tr th {\n",
              "        vertical-align: top;\n",
              "    }\n",
              "\n",
              "    .dataframe thead th {\n",
              "        text-align: right;\n",
              "    }\n",
              "</style>\n",
              "<table border=\"1\" class=\"dataframe\">\n",
              "  <thead>\n",
              "    <tr style=\"text-align: right;\">\n",
              "      <th></th>\n",
              "      <th>antecedents</th>\n",
              "      <th>consequents</th>\n",
              "      <th>antecedent support</th>\n",
              "      <th>consequent support</th>\n",
              "      <th>support</th>\n",
              "      <th>confidence</th>\n",
              "      <th>lift</th>\n",
              "      <th>leverage</th>\n",
              "      <th>conviction</th>\n",
              "      <th>zhang</th>\n",
              "    </tr>\n",
              "  </thead>\n",
              "  <tbody>\n",
              "    <tr>\n",
              "      <th>2</th>\n",
              "      <td>(whole milk)</td>\n",
              "      <td>(bottled water)</td>\n",
              "      <td>0.181445</td>\n",
              "      <td>0.069226</td>\n",
              "      <td>0.010209</td>\n",
              "      <td>0.056265</td>\n",
              "      <td>0.812766</td>\n",
              "      <td>-0.002352</td>\n",
              "      <td>0.986266</td>\n",
              "      <td>-0.219622</td>\n",
              "    </tr>\n",
              "    <tr>\n",
              "      <th>3</th>\n",
              "      <td>(bottled water)</td>\n",
              "      <td>(whole milk)</td>\n",
              "      <td>0.069226</td>\n",
              "      <td>0.181445</td>\n",
              "      <td>0.010209</td>\n",
              "      <td>0.147472</td>\n",
              "      <td>0.812766</td>\n",
              "      <td>-0.002352</td>\n",
              "      <td>0.960151</td>\n",
              "      <td>-0.198396</td>\n",
              "    </tr>\n",
              "    <tr>\n",
              "      <th>6</th>\n",
              "      <td>(rolls/buns)</td>\n",
              "      <td>(other vegetables)</td>\n",
              "      <td>0.126822</td>\n",
              "      <td>0.136531</td>\n",
              "      <td>0.015576</td>\n",
              "      <td>0.122822</td>\n",
              "      <td>0.899587</td>\n",
              "      <td>-0.001739</td>\n",
              "      <td>0.984371</td>\n",
              "      <td>-0.113344</td>\n",
              "    </tr>\n",
              "    <tr>\n",
              "      <th>7</th>\n",
              "      <td>(other vegetables)</td>\n",
              "      <td>(rolls/buns)</td>\n",
              "      <td>0.136531</td>\n",
              "      <td>0.126822</td>\n",
              "      <td>0.015576</td>\n",
              "      <td>0.114087</td>\n",
              "      <td>0.899587</td>\n",
              "      <td>-0.001739</td>\n",
              "      <td>0.985625</td>\n",
              "      <td>-0.114473</td>\n",
              "    </tr>\n",
              "    <tr>\n",
              "      <th>10</th>\n",
              "      <td>(soda)</td>\n",
              "      <td>(other vegetables)</td>\n",
              "      <td>0.111482</td>\n",
              "      <td>0.136531</td>\n",
              "      <td>0.013945</td>\n",
              "      <td>0.125089</td>\n",
              "      <td>0.916191</td>\n",
              "      <td>-0.001276</td>\n",
              "      <td>0.986921</td>\n",
              "      <td>-0.093343</td>\n",
              "    </tr>\n",
              "    <tr>\n",
              "      <th>11</th>\n",
              "      <td>(other vegetables)</td>\n",
              "      <td>(soda)</td>\n",
              "      <td>0.136531</td>\n",
              "      <td>0.111482</td>\n",
              "      <td>0.013945</td>\n",
              "      <td>0.102139</td>\n",
              "      <td>0.916191</td>\n",
              "      <td>-0.001276</td>\n",
              "      <td>0.989594</td>\n",
              "      <td>-0.095792</td>\n",
              "    </tr>\n",
              "    <tr>\n",
              "      <th>12</th>\n",
              "      <td>(whole milk)</td>\n",
              "      <td>(other vegetables)</td>\n",
              "      <td>0.181445</td>\n",
              "      <td>0.136531</td>\n",
              "      <td>0.021944</td>\n",
              "      <td>0.120940</td>\n",
              "      <td>0.885803</td>\n",
              "      <td>-0.002829</td>\n",
              "      <td>0.982264</td>\n",
              "      <td>-0.136066</td>\n",
              "    </tr>\n",
              "    <tr>\n",
              "      <th>13</th>\n",
              "      <td>(other vegetables)</td>\n",
              "      <td>(whole milk)</td>\n",
              "      <td>0.136531</td>\n",
              "      <td>0.181445</td>\n",
              "      <td>0.021944</td>\n",
              "      <td>0.160725</td>\n",
              "      <td>0.885803</td>\n",
              "      <td>-0.002829</td>\n",
              "      <td>0.975312</td>\n",
              "      <td>-0.129908</td>\n",
              "    </tr>\n",
              "    <tr>\n",
              "      <th>14</th>\n",
              "      <td>(yogurt)</td>\n",
              "      <td>(other vegetables)</td>\n",
              "      <td>0.100931</td>\n",
              "      <td>0.136531</td>\n",
              "      <td>0.012288</td>\n",
              "      <td>0.121741</td>\n",
              "      <td>0.891675</td>\n",
              "      <td>-0.001493</td>\n",
              "      <td>0.983160</td>\n",
              "      <td>-0.119038</td>\n",
              "    </tr>\n",
              "    <tr>\n",
              "      <th>15</th>\n",
              "      <td>(other vegetables)</td>\n",
              "      <td>(yogurt)</td>\n",
              "      <td>0.136531</td>\n",
              "      <td>0.100931</td>\n",
              "      <td>0.012288</td>\n",
              "      <td>0.089998</td>\n",
              "      <td>0.891675</td>\n",
              "      <td>-0.001493</td>\n",
              "      <td>0.987985</td>\n",
              "      <td>-0.123340</td>\n",
              "    </tr>\n",
              "    <tr>\n",
              "      <th>18</th>\n",
              "      <td>(whole milk)</td>\n",
              "      <td>(pastry)</td>\n",
              "      <td>0.181445</td>\n",
              "      <td>0.060596</td>\n",
              "      <td>0.010472</td>\n",
              "      <td>0.057715</td>\n",
              "      <td>0.952454</td>\n",
              "      <td>-0.000523</td>\n",
              "      <td>0.996942</td>\n",
              "      <td>-0.057479</td>\n",
              "    </tr>\n",
              "    <tr>\n",
              "      <th>19</th>\n",
              "      <td>(pastry)</td>\n",
              "      <td>(whole milk)</td>\n",
              "      <td>0.060596</td>\n",
              "      <td>0.181445</td>\n",
              "      <td>0.010472</td>\n",
              "      <td>0.172818</td>\n",
              "      <td>0.952454</td>\n",
              "      <td>-0.000523</td>\n",
              "      <td>0.989571</td>\n",
              "      <td>-0.050458</td>\n",
              "    </tr>\n",
              "    <tr>\n",
              "      <th>20</th>\n",
              "      <td>(rolls/buns)</td>\n",
              "      <td>(soda)</td>\n",
              "      <td>0.126822</td>\n",
              "      <td>0.111482</td>\n",
              "      <td>0.012209</td>\n",
              "      <td>0.096266</td>\n",
              "      <td>0.863505</td>\n",
              "      <td>-0.001930</td>\n",
              "      <td>0.983162</td>\n",
              "      <td>-0.153282</td>\n",
              "    </tr>\n",
              "    <tr>\n",
              "      <th>21</th>\n",
              "      <td>(soda)</td>\n",
              "      <td>(rolls/buns)</td>\n",
              "      <td>0.111482</td>\n",
              "      <td>0.126822</td>\n",
              "      <td>0.012209</td>\n",
              "      <td>0.109511</td>\n",
              "      <td>0.863505</td>\n",
              "      <td>-0.001930</td>\n",
              "      <td>0.980561</td>\n",
              "      <td>-0.151035</td>\n",
              "    </tr>\n",
              "    <tr>\n",
              "      <th>22</th>\n",
              "      <td>(rolls/buns)</td>\n",
              "      <td>(whole milk)</td>\n",
              "      <td>0.126822</td>\n",
              "      <td>0.181445</td>\n",
              "      <td>0.021865</td>\n",
              "      <td>0.172407</td>\n",
              "      <td>0.950187</td>\n",
              "      <td>-0.001146</td>\n",
              "      <td>0.989079</td>\n",
              "      <td>-0.056639</td>\n",
              "    </tr>\n",
              "    <tr>\n",
              "      <th>23</th>\n",
              "      <td>(whole milk)</td>\n",
              "      <td>(rolls/buns)</td>\n",
              "      <td>0.181445</td>\n",
              "      <td>0.126822</td>\n",
              "      <td>0.021865</td>\n",
              "      <td>0.120505</td>\n",
              "      <td>0.950187</td>\n",
              "      <td>-0.001146</td>\n",
              "      <td>0.992817</td>\n",
              "      <td>-0.060191</td>\n",
              "    </tr>\n",
              "    <tr>\n",
              "      <th>24</th>\n",
              "      <td>(rolls/buns)</td>\n",
              "      <td>(yogurt)</td>\n",
              "      <td>0.126822</td>\n",
              "      <td>0.100931</td>\n",
              "      <td>0.012498</td>\n",
              "      <td>0.098548</td>\n",
              "      <td>0.976383</td>\n",
              "      <td>-0.000302</td>\n",
              "      <td>0.997356</td>\n",
              "      <td>-0.026955</td>\n",
              "    </tr>\n",
              "    <tr>\n",
              "      <th>25</th>\n",
              "      <td>(yogurt)</td>\n",
              "      <td>(rolls/buns)</td>\n",
              "      <td>0.100931</td>\n",
              "      <td>0.126822</td>\n",
              "      <td>0.012498</td>\n",
              "      <td>0.123827</td>\n",
              "      <td>0.976383</td>\n",
              "      <td>-0.000302</td>\n",
              "      <td>0.996582</td>\n",
              "      <td>-0.026199</td>\n",
              "    </tr>\n",
              "    <tr>\n",
              "      <th>26</th>\n",
              "      <td>(whole milk)</td>\n",
              "      <td>(root vegetables)</td>\n",
              "      <td>0.181445</td>\n",
              "      <td>0.079198</td>\n",
              "      <td>0.011156</td>\n",
              "      <td>0.061485</td>\n",
              "      <td>0.776344</td>\n",
              "      <td>-0.003214</td>\n",
              "      <td>0.981126</td>\n",
              "      <td>-0.260326</td>\n",
              "    </tr>\n",
              "    <tr>\n",
              "      <th>27</th>\n",
              "      <td>(root vegetables)</td>\n",
              "      <td>(whole milk)</td>\n",
              "      <td>0.079198</td>\n",
              "      <td>0.181445</td>\n",
              "      <td>0.011156</td>\n",
              "      <td>0.140864</td>\n",
              "      <td>0.776344</td>\n",
              "      <td>-0.003214</td>\n",
              "      <td>0.952765</td>\n",
              "      <td>-0.238308</td>\n",
              "    </tr>\n",
              "    <tr>\n",
              "      <th>34</th>\n",
              "      <td>(whole milk)</td>\n",
              "      <td>(soda)</td>\n",
              "      <td>0.181445</td>\n",
              "      <td>0.111482</td>\n",
              "      <td>0.018155</td>\n",
              "      <td>0.100058</td>\n",
              "      <td>0.897523</td>\n",
              "      <td>-0.002073</td>\n",
              "      <td>0.987305</td>\n",
              "      <td>-0.122412</td>\n",
              "    </tr>\n",
              "    <tr>\n",
              "      <th>35</th>\n",
              "      <td>(soda)</td>\n",
              "      <td>(whole milk)</td>\n",
              "      <td>0.111482</td>\n",
              "      <td>0.181445</td>\n",
              "      <td>0.018155</td>\n",
              "      <td>0.162851</td>\n",
              "      <td>0.897523</td>\n",
              "      <td>-0.002073</td>\n",
              "      <td>0.977789</td>\n",
              "      <td>-0.113871</td>\n",
              "    </tr>\n",
              "    <tr>\n",
              "      <th>36</th>\n",
              "      <td>(whole milk)</td>\n",
              "      <td>(tropical fruit)</td>\n",
              "      <td>0.181445</td>\n",
              "      <td>0.079356</td>\n",
              "      <td>0.012735</td>\n",
              "      <td>0.070186</td>\n",
              "      <td>0.884441</td>\n",
              "      <td>-0.001664</td>\n",
              "      <td>0.990138</td>\n",
              "      <td>-0.137648</td>\n",
              "    </tr>\n",
              "    <tr>\n",
              "      <th>37</th>\n",
              "      <td>(tropical fruit)</td>\n",
              "      <td>(whole milk)</td>\n",
              "      <td>0.079356</td>\n",
              "      <td>0.181445</td>\n",
              "      <td>0.012735</td>\n",
              "      <td>0.160477</td>\n",
              "      <td>0.884441</td>\n",
              "      <td>-0.001664</td>\n",
              "      <td>0.975024</td>\n",
              "      <td>-0.124282</td>\n",
              "    </tr>\n",
              "  </tbody>\n",
              "</table>\n",
              "</div>\n",
              "      <button class=\"colab-df-convert\" onclick=\"convertToInteractive('df-aad0de11-cd53-4745-baa4-11d9df752ba5')\"\n",
              "              title=\"Convert this dataframe to an interactive table.\"\n",
              "              style=\"display:none;\">\n",
              "        \n",
              "  <svg xmlns=\"http://www.w3.org/2000/svg\" height=\"24px\"viewBox=\"0 0 24 24\"\n",
              "       width=\"24px\">\n",
              "    <path d=\"M0 0h24v24H0V0z\" fill=\"none\"/>\n",
              "    <path d=\"M18.56 5.44l.94 2.06.94-2.06 2.06-.94-2.06-.94-.94-2.06-.94 2.06-2.06.94zm-11 1L8.5 8.5l.94-2.06 2.06-.94-2.06-.94L8.5 2.5l-.94 2.06-2.06.94zm10 10l.94 2.06.94-2.06 2.06-.94-2.06-.94-.94-2.06-.94 2.06-2.06.94z\"/><path d=\"M17.41 7.96l-1.37-1.37c-.4-.4-.92-.59-1.43-.59-.52 0-1.04.2-1.43.59L10.3 9.45l-7.72 7.72c-.78.78-.78 2.05 0 2.83L4 21.41c.39.39.9.59 1.41.59.51 0 1.02-.2 1.41-.59l7.78-7.78 2.81-2.81c.8-.78.8-2.07 0-2.86zM5.41 20L4 18.59l7.72-7.72 1.47 1.35L5.41 20z\"/>\n",
              "  </svg>\n",
              "      </button>\n",
              "      \n",
              "  <style>\n",
              "    .colab-df-container {\n",
              "      display:flex;\n",
              "      flex-wrap:wrap;\n",
              "      gap: 12px;\n",
              "    }\n",
              "\n",
              "    .colab-df-convert {\n",
              "      background-color: #E8F0FE;\n",
              "      border: none;\n",
              "      border-radius: 50%;\n",
              "      cursor: pointer;\n",
              "      display: none;\n",
              "      fill: #1967D2;\n",
              "      height: 32px;\n",
              "      padding: 0 0 0 0;\n",
              "      width: 32px;\n",
              "    }\n",
              "\n",
              "    .colab-df-convert:hover {\n",
              "      background-color: #E2EBFA;\n",
              "      box-shadow: 0px 1px 2px rgba(60, 64, 67, 0.3), 0px 1px 3px 1px rgba(60, 64, 67, 0.15);\n",
              "      fill: #174EA6;\n",
              "    }\n",
              "\n",
              "    [theme=dark] .colab-df-convert {\n",
              "      background-color: #3B4455;\n",
              "      fill: #D2E3FC;\n",
              "    }\n",
              "\n",
              "    [theme=dark] .colab-df-convert:hover {\n",
              "      background-color: #434B5C;\n",
              "      box-shadow: 0px 1px 3px 1px rgba(0, 0, 0, 0.15);\n",
              "      filter: drop-shadow(0px 1px 2px rgba(0, 0, 0, 0.3));\n",
              "      fill: #FFFFFF;\n",
              "    }\n",
              "  </style>\n",
              "\n",
              "      <script>\n",
              "        const buttonEl =\n",
              "          document.querySelector('#df-aad0de11-cd53-4745-baa4-11d9df752ba5 button.colab-df-convert');\n",
              "        buttonEl.style.display =\n",
              "          google.colab.kernel.accessAllowed ? 'block' : 'none';\n",
              "\n",
              "        async function convertToInteractive(key) {\n",
              "          const element = document.querySelector('#df-aad0de11-cd53-4745-baa4-11d9df752ba5');\n",
              "          const dataTable =\n",
              "            await google.colab.kernel.invokeFunction('convertToInteractive',\n",
              "                                                     [key], {});\n",
              "          if (!dataTable) return;\n",
              "\n",
              "          const docLinkHtml = 'Like what you see? Visit the ' +\n",
              "            '<a target=\"_blank\" href=https://colab.research.google.com/notebooks/data_table.ipynb>data table notebook</a>'\n",
              "            + ' to learn more about interactive tables.';\n",
              "          element.innerHTML = '';\n",
              "          dataTable['output_type'] = 'display_data';\n",
              "          await google.colab.output.renderOutput(dataTable, element);\n",
              "          const docLink = document.createElement('div');\n",
              "          docLink.innerHTML = docLinkHtml;\n",
              "          element.appendChild(docLink);\n",
              "        }\n",
              "      </script>\n",
              "    </div>\n",
              "  </div>\n",
              "  "
            ]
          },
          "metadata": {},
          "execution_count": 62
        }
      ]
    },
    {
      "cell_type": "code",
      "source": [
        "rules[rules.zhang>0].sort_values('zhang', ascending=False) "
      ],
      "metadata": {
        "colab": {
          "base_uri": "https://localhost:8080/",
          "height": 868
        },
        "id": "3qKUPL6-B8wb",
        "outputId": "2837702d-ee89-4c1e-b4ee-3572c9fd7f74"
      },
      "execution_count": null,
      "outputs": [
        {
          "output_type": "execute_result",
          "data": {
            "text/plain": [
              "                        antecedents                      consequents  \\\n",
              "40                     (whole milk)  (other vegetables & whole milk)   \n",
              "17               (other vegetables)  (other vegetables & whole milk)   \n",
              "16  (other vegetables & whole milk)               (other vegetables)   \n",
              "41  (other vegetables & whole milk)                     (whole milk)   \n",
              "32                         (yogurt)                        (sausage)   \n",
              "33                        (sausage)                         (yogurt)   \n",
              "29                           (soda)                        (sausage)   \n",
              "28                        (sausage)                           (soda)   \n",
              "30                     (whole milk)                        (sausage)   \n",
              "31                        (sausage)                     (whole milk)   \n",
              "9                (other vegetables)                        (sausage)   \n",
              "8                         (sausage)               (other vegetables)   \n",
              "0                      (whole milk)                   (bottled beer)   \n",
              "1                    (bottled beer)                     (whole milk)   \n",
              "5                      (whole milk)                   (citrus fruit)   \n",
              "4                    (citrus fruit)                     (whole milk)   \n",
              "39                     (whole milk)                         (yogurt)   \n",
              "38                         (yogurt)                     (whole milk)   \n",
              "\n",
              "    antecedent support  consequent support   support  confidence      lift  \\\n",
              "40            0.181445            0.021944  0.021944    0.120940  5.511311   \n",
              "17            0.136531            0.021944  0.021944    0.160725  7.324340   \n",
              "16            0.021944            0.136531  0.021944    1.000000  7.324340   \n",
              "41            0.021944            0.181445  0.021944    1.000000  5.511311   \n",
              "32            0.100931            0.074225  0.010051    0.099583  1.341633   \n",
              "33            0.074225            0.100931  0.010051    0.135413  1.341633   \n",
              "29            0.111482            0.074225  0.010051    0.090158  1.214658   \n",
              "28            0.074225            0.111482  0.010051    0.135413  1.214658   \n",
              "30            0.181445            0.074225  0.014998    0.082657  1.113593   \n",
              "31            0.074225            0.181445  0.014998    0.202056  1.113593   \n",
              "9             0.136531            0.074225  0.010840    0.079399  1.069702   \n",
              "8             0.074225            0.136531  0.010840    0.146048  1.069702   \n",
              "0             0.181445            0.054860  0.010472    0.057715  1.052039   \n",
              "1             0.054860            0.181445  0.010472    0.190887  1.052039   \n",
              "5             0.181445            0.060911  0.011261    0.062065  1.018938   \n",
              "4             0.060911            0.181445  0.011261    0.184881  1.018938   \n",
              "39            0.181445            0.100931  0.018392    0.101363  1.004277   \n",
              "38            0.100931            0.181445  0.018392    0.182221  1.004277   \n",
              "\n",
              "    leverage  conviction     zhang  \n",
              "40  0.017962    1.112615  1.000000  \n",
              "17  0.018948    1.165358  1.000000  \n",
              "16  0.018948         inf  0.882842  \n",
              "41  0.017962         inf  0.836920  \n",
              "32  0.002559    1.028162  0.283226  \n",
              "33  0.002559    1.039882  0.275056  \n",
              "29  0.001776    1.017512  0.198896  \n",
              "28  0.001776    1.027679  0.190892  \n",
              "30  0.001530    1.009191  0.124617  \n",
              "31  0.001530    1.025830  0.110185  \n",
              "9   0.000706    1.005620  0.075463  \n",
              "8   0.000706    1.011144  0.070384  \n",
              "0   0.000518    1.003030  0.060430  \n",
              "1   0.000518    1.011670  0.052336  \n",
              "5   0.000209    1.001230  0.022706  \n",
              "4   0.000209    1.004216  0.019791  \n",
              "39  0.000078    1.000480  0.005203  \n",
              "38  0.000078    1.000949  0.004737  "
            ],
            "text/html": [
              "\n",
              "  <div id=\"df-ed1fec9a-5e64-4466-89b4-a94028e0c22d\">\n",
              "    <div class=\"colab-df-container\">\n",
              "      <div>\n",
              "<style scoped>\n",
              "    .dataframe tbody tr th:only-of-type {\n",
              "        vertical-align: middle;\n",
              "    }\n",
              "\n",
              "    .dataframe tbody tr th {\n",
              "        vertical-align: top;\n",
              "    }\n",
              "\n",
              "    .dataframe thead th {\n",
              "        text-align: right;\n",
              "    }\n",
              "</style>\n",
              "<table border=\"1\" class=\"dataframe\">\n",
              "  <thead>\n",
              "    <tr style=\"text-align: right;\">\n",
              "      <th></th>\n",
              "      <th>antecedents</th>\n",
              "      <th>consequents</th>\n",
              "      <th>antecedent support</th>\n",
              "      <th>consequent support</th>\n",
              "      <th>support</th>\n",
              "      <th>confidence</th>\n",
              "      <th>lift</th>\n",
              "      <th>leverage</th>\n",
              "      <th>conviction</th>\n",
              "      <th>zhang</th>\n",
              "    </tr>\n",
              "  </thead>\n",
              "  <tbody>\n",
              "    <tr>\n",
              "      <th>40</th>\n",
              "      <td>(whole milk)</td>\n",
              "      <td>(other vegetables &amp; whole milk)</td>\n",
              "      <td>0.181445</td>\n",
              "      <td>0.021944</td>\n",
              "      <td>0.021944</td>\n",
              "      <td>0.120940</td>\n",
              "      <td>5.511311</td>\n",
              "      <td>0.017962</td>\n",
              "      <td>1.112615</td>\n",
              "      <td>1.000000</td>\n",
              "    </tr>\n",
              "    <tr>\n",
              "      <th>17</th>\n",
              "      <td>(other vegetables)</td>\n",
              "      <td>(other vegetables &amp; whole milk)</td>\n",
              "      <td>0.136531</td>\n",
              "      <td>0.021944</td>\n",
              "      <td>0.021944</td>\n",
              "      <td>0.160725</td>\n",
              "      <td>7.324340</td>\n",
              "      <td>0.018948</td>\n",
              "      <td>1.165358</td>\n",
              "      <td>1.000000</td>\n",
              "    </tr>\n",
              "    <tr>\n",
              "      <th>16</th>\n",
              "      <td>(other vegetables &amp; whole milk)</td>\n",
              "      <td>(other vegetables)</td>\n",
              "      <td>0.021944</td>\n",
              "      <td>0.136531</td>\n",
              "      <td>0.021944</td>\n",
              "      <td>1.000000</td>\n",
              "      <td>7.324340</td>\n",
              "      <td>0.018948</td>\n",
              "      <td>inf</td>\n",
              "      <td>0.882842</td>\n",
              "    </tr>\n",
              "    <tr>\n",
              "      <th>41</th>\n",
              "      <td>(other vegetables &amp; whole milk)</td>\n",
              "      <td>(whole milk)</td>\n",
              "      <td>0.021944</td>\n",
              "      <td>0.181445</td>\n",
              "      <td>0.021944</td>\n",
              "      <td>1.000000</td>\n",
              "      <td>5.511311</td>\n",
              "      <td>0.017962</td>\n",
              "      <td>inf</td>\n",
              "      <td>0.836920</td>\n",
              "    </tr>\n",
              "    <tr>\n",
              "      <th>32</th>\n",
              "      <td>(yogurt)</td>\n",
              "      <td>(sausage)</td>\n",
              "      <td>0.100931</td>\n",
              "      <td>0.074225</td>\n",
              "      <td>0.010051</td>\n",
              "      <td>0.099583</td>\n",
              "      <td>1.341633</td>\n",
              "      <td>0.002559</td>\n",
              "      <td>1.028162</td>\n",
              "      <td>0.283226</td>\n",
              "    </tr>\n",
              "    <tr>\n",
              "      <th>33</th>\n",
              "      <td>(sausage)</td>\n",
              "      <td>(yogurt)</td>\n",
              "      <td>0.074225</td>\n",
              "      <td>0.100931</td>\n",
              "      <td>0.010051</td>\n",
              "      <td>0.135413</td>\n",
              "      <td>1.341633</td>\n",
              "      <td>0.002559</td>\n",
              "      <td>1.039882</td>\n",
              "      <td>0.275056</td>\n",
              "    </tr>\n",
              "    <tr>\n",
              "      <th>29</th>\n",
              "      <td>(soda)</td>\n",
              "      <td>(sausage)</td>\n",
              "      <td>0.111482</td>\n",
              "      <td>0.074225</td>\n",
              "      <td>0.010051</td>\n",
              "      <td>0.090158</td>\n",
              "      <td>1.214658</td>\n",
              "      <td>0.001776</td>\n",
              "      <td>1.017512</td>\n",
              "      <td>0.198896</td>\n",
              "    </tr>\n",
              "    <tr>\n",
              "      <th>28</th>\n",
              "      <td>(sausage)</td>\n",
              "      <td>(soda)</td>\n",
              "      <td>0.074225</td>\n",
              "      <td>0.111482</td>\n",
              "      <td>0.010051</td>\n",
              "      <td>0.135413</td>\n",
              "      <td>1.214658</td>\n",
              "      <td>0.001776</td>\n",
              "      <td>1.027679</td>\n",
              "      <td>0.190892</td>\n",
              "    </tr>\n",
              "    <tr>\n",
              "      <th>30</th>\n",
              "      <td>(whole milk)</td>\n",
              "      <td>(sausage)</td>\n",
              "      <td>0.181445</td>\n",
              "      <td>0.074225</td>\n",
              "      <td>0.014998</td>\n",
              "      <td>0.082657</td>\n",
              "      <td>1.113593</td>\n",
              "      <td>0.001530</td>\n",
              "      <td>1.009191</td>\n",
              "      <td>0.124617</td>\n",
              "    </tr>\n",
              "    <tr>\n",
              "      <th>31</th>\n",
              "      <td>(sausage)</td>\n",
              "      <td>(whole milk)</td>\n",
              "      <td>0.074225</td>\n",
              "      <td>0.181445</td>\n",
              "      <td>0.014998</td>\n",
              "      <td>0.202056</td>\n",
              "      <td>1.113593</td>\n",
              "      <td>0.001530</td>\n",
              "      <td>1.025830</td>\n",
              "      <td>0.110185</td>\n",
              "    </tr>\n",
              "    <tr>\n",
              "      <th>9</th>\n",
              "      <td>(other vegetables)</td>\n",
              "      <td>(sausage)</td>\n",
              "      <td>0.136531</td>\n",
              "      <td>0.074225</td>\n",
              "      <td>0.010840</td>\n",
              "      <td>0.079399</td>\n",
              "      <td>1.069702</td>\n",
              "      <td>0.000706</td>\n",
              "      <td>1.005620</td>\n",
              "      <td>0.075463</td>\n",
              "    </tr>\n",
              "    <tr>\n",
              "      <th>8</th>\n",
              "      <td>(sausage)</td>\n",
              "      <td>(other vegetables)</td>\n",
              "      <td>0.074225</td>\n",
              "      <td>0.136531</td>\n",
              "      <td>0.010840</td>\n",
              "      <td>0.146048</td>\n",
              "      <td>1.069702</td>\n",
              "      <td>0.000706</td>\n",
              "      <td>1.011144</td>\n",
              "      <td>0.070384</td>\n",
              "    </tr>\n",
              "    <tr>\n",
              "      <th>0</th>\n",
              "      <td>(whole milk)</td>\n",
              "      <td>(bottled beer)</td>\n",
              "      <td>0.181445</td>\n",
              "      <td>0.054860</td>\n",
              "      <td>0.010472</td>\n",
              "      <td>0.057715</td>\n",
              "      <td>1.052039</td>\n",
              "      <td>0.000518</td>\n",
              "      <td>1.003030</td>\n",
              "      <td>0.060430</td>\n",
              "    </tr>\n",
              "    <tr>\n",
              "      <th>1</th>\n",
              "      <td>(bottled beer)</td>\n",
              "      <td>(whole milk)</td>\n",
              "      <td>0.054860</td>\n",
              "      <td>0.181445</td>\n",
              "      <td>0.010472</td>\n",
              "      <td>0.190887</td>\n",
              "      <td>1.052039</td>\n",
              "      <td>0.000518</td>\n",
              "      <td>1.011670</td>\n",
              "      <td>0.052336</td>\n",
              "    </tr>\n",
              "    <tr>\n",
              "      <th>5</th>\n",
              "      <td>(whole milk)</td>\n",
              "      <td>(citrus fruit)</td>\n",
              "      <td>0.181445</td>\n",
              "      <td>0.060911</td>\n",
              "      <td>0.011261</td>\n",
              "      <td>0.062065</td>\n",
              "      <td>1.018938</td>\n",
              "      <td>0.000209</td>\n",
              "      <td>1.001230</td>\n",
              "      <td>0.022706</td>\n",
              "    </tr>\n",
              "    <tr>\n",
              "      <th>4</th>\n",
              "      <td>(citrus fruit)</td>\n",
              "      <td>(whole milk)</td>\n",
              "      <td>0.060911</td>\n",
              "      <td>0.181445</td>\n",
              "      <td>0.011261</td>\n",
              "      <td>0.184881</td>\n",
              "      <td>1.018938</td>\n",
              "      <td>0.000209</td>\n",
              "      <td>1.004216</td>\n",
              "      <td>0.019791</td>\n",
              "    </tr>\n",
              "    <tr>\n",
              "      <th>39</th>\n",
              "      <td>(whole milk)</td>\n",
              "      <td>(yogurt)</td>\n",
              "      <td>0.181445</td>\n",
              "      <td>0.100931</td>\n",
              "      <td>0.018392</td>\n",
              "      <td>0.101363</td>\n",
              "      <td>1.004277</td>\n",
              "      <td>0.000078</td>\n",
              "      <td>1.000480</td>\n",
              "      <td>0.005203</td>\n",
              "    </tr>\n",
              "    <tr>\n",
              "      <th>38</th>\n",
              "      <td>(yogurt)</td>\n",
              "      <td>(whole milk)</td>\n",
              "      <td>0.100931</td>\n",
              "      <td>0.181445</td>\n",
              "      <td>0.018392</td>\n",
              "      <td>0.182221</td>\n",
              "      <td>1.004277</td>\n",
              "      <td>0.000078</td>\n",
              "      <td>1.000949</td>\n",
              "      <td>0.004737</td>\n",
              "    </tr>\n",
              "  </tbody>\n",
              "</table>\n",
              "</div>\n",
              "      <button class=\"colab-df-convert\" onclick=\"convertToInteractive('df-ed1fec9a-5e64-4466-89b4-a94028e0c22d')\"\n",
              "              title=\"Convert this dataframe to an interactive table.\"\n",
              "              style=\"display:none;\">\n",
              "        \n",
              "  <svg xmlns=\"http://www.w3.org/2000/svg\" height=\"24px\"viewBox=\"0 0 24 24\"\n",
              "       width=\"24px\">\n",
              "    <path d=\"M0 0h24v24H0V0z\" fill=\"none\"/>\n",
              "    <path d=\"M18.56 5.44l.94 2.06.94-2.06 2.06-.94-2.06-.94-.94-2.06-.94 2.06-2.06.94zm-11 1L8.5 8.5l.94-2.06 2.06-.94-2.06-.94L8.5 2.5l-.94 2.06-2.06.94zm10 10l.94 2.06.94-2.06 2.06-.94-2.06-.94-.94-2.06-.94 2.06-2.06.94z\"/><path d=\"M17.41 7.96l-1.37-1.37c-.4-.4-.92-.59-1.43-.59-.52 0-1.04.2-1.43.59L10.3 9.45l-7.72 7.72c-.78.78-.78 2.05 0 2.83L4 21.41c.39.39.9.59 1.41.59.51 0 1.02-.2 1.41-.59l7.78-7.78 2.81-2.81c.8-.78.8-2.07 0-2.86zM5.41 20L4 18.59l7.72-7.72 1.47 1.35L5.41 20z\"/>\n",
              "  </svg>\n",
              "      </button>\n",
              "      \n",
              "  <style>\n",
              "    .colab-df-container {\n",
              "      display:flex;\n",
              "      flex-wrap:wrap;\n",
              "      gap: 12px;\n",
              "    }\n",
              "\n",
              "    .colab-df-convert {\n",
              "      background-color: #E8F0FE;\n",
              "      border: none;\n",
              "      border-radius: 50%;\n",
              "      cursor: pointer;\n",
              "      display: none;\n",
              "      fill: #1967D2;\n",
              "      height: 32px;\n",
              "      padding: 0 0 0 0;\n",
              "      width: 32px;\n",
              "    }\n",
              "\n",
              "    .colab-df-convert:hover {\n",
              "      background-color: #E2EBFA;\n",
              "      box-shadow: 0px 1px 2px rgba(60, 64, 67, 0.3), 0px 1px 3px 1px rgba(60, 64, 67, 0.15);\n",
              "      fill: #174EA6;\n",
              "    }\n",
              "\n",
              "    [theme=dark] .colab-df-convert {\n",
              "      background-color: #3B4455;\n",
              "      fill: #D2E3FC;\n",
              "    }\n",
              "\n",
              "    [theme=dark] .colab-df-convert:hover {\n",
              "      background-color: #434B5C;\n",
              "      box-shadow: 0px 1px 3px 1px rgba(0, 0, 0, 0.15);\n",
              "      filter: drop-shadow(0px 1px 2px rgba(0, 0, 0, 0.3));\n",
              "      fill: #FFFFFF;\n",
              "    }\n",
              "  </style>\n",
              "\n",
              "      <script>\n",
              "        const buttonEl =\n",
              "          document.querySelector('#df-ed1fec9a-5e64-4466-89b4-a94028e0c22d button.colab-df-convert');\n",
              "        buttonEl.style.display =\n",
              "          google.colab.kernel.accessAllowed ? 'block' : 'none';\n",
              "\n",
              "        async function convertToInteractive(key) {\n",
              "          const element = document.querySelector('#df-ed1fec9a-5e64-4466-89b4-a94028e0c22d');\n",
              "          const dataTable =\n",
              "            await google.colab.kernel.invokeFunction('convertToInteractive',\n",
              "                                                     [key], {});\n",
              "          if (!dataTable) return;\n",
              "\n",
              "          const docLinkHtml = 'Like what you see? Visit the ' +\n",
              "            '<a target=\"_blank\" href=https://colab.research.google.com/notebooks/data_table.ipynb>data table notebook</a>'\n",
              "            + ' to learn more about interactive tables.';\n",
              "          element.innerHTML = '';\n",
              "          dataTable['output_type'] = 'display_data';\n",
              "          await google.colab.output.renderOutput(dataTable, element);\n",
              "          const docLink = document.createElement('div');\n",
              "          docLink.innerHTML = docLinkHtml;\n",
              "          element.appendChild(docLink);\n",
              "        }\n",
              "      </script>\n",
              "    </div>\n",
              "  </div>\n",
              "  "
            ]
          },
          "metadata": {},
          "execution_count": 63
        }
      ]
    },
    {
      "cell_type": "code",
      "source": [
        "rules = association_rules(frequent_itemsets,metric = \"leverage\", min_threshold = 0)"
      ],
      "metadata": {
        "id": "cgcJM9DbCFnZ"
      },
      "execution_count": null,
      "outputs": []
    },
    {
      "cell_type": "code",
      "source": [
        "rules.head()"
      ],
      "metadata": {
        "colab": {
          "base_uri": "https://localhost:8080/",
          "height": 206
        },
        "id": "OtSwLcX4CFkO",
        "outputId": "2a9948c3-3c43-454f-d63f-83615acdb597"
      },
      "execution_count": null,
      "outputs": [
        {
          "output_type": "execute_result",
          "data": {
            "text/plain": [
              "      antecedents         consequents  antecedent support  consequent support  \\\n",
              "0    (whole milk)      (bottled beer)            0.181445            0.054860   \n",
              "1  (bottled beer)        (whole milk)            0.054860            0.181445   \n",
              "2  (citrus fruit)        (whole milk)            0.060911            0.181445   \n",
              "3    (whole milk)      (citrus fruit)            0.181445            0.060911   \n",
              "4       (sausage)  (other vegetables)            0.074225            0.136531   \n",
              "\n",
              "    support  confidence      lift  leverage  conviction  \n",
              "0  0.010472    0.057715  1.052039  0.000518    1.003030  \n",
              "1  0.010472    0.190887  1.052039  0.000518    1.011670  \n",
              "2  0.011261    0.184881  1.018938  0.000209    1.004216  \n",
              "3  0.011261    0.062065  1.018938  0.000209    1.001230  \n",
              "4  0.010840    0.146048  1.069702  0.000706    1.011144  "
            ],
            "text/html": [
              "\n",
              "  <div id=\"df-d28cf5d9-f258-4018-924f-c0905e914a17\">\n",
              "    <div class=\"colab-df-container\">\n",
              "      <div>\n",
              "<style scoped>\n",
              "    .dataframe tbody tr th:only-of-type {\n",
              "        vertical-align: middle;\n",
              "    }\n",
              "\n",
              "    .dataframe tbody tr th {\n",
              "        vertical-align: top;\n",
              "    }\n",
              "\n",
              "    .dataframe thead th {\n",
              "        text-align: right;\n",
              "    }\n",
              "</style>\n",
              "<table border=\"1\" class=\"dataframe\">\n",
              "  <thead>\n",
              "    <tr style=\"text-align: right;\">\n",
              "      <th></th>\n",
              "      <th>antecedents</th>\n",
              "      <th>consequents</th>\n",
              "      <th>antecedent support</th>\n",
              "      <th>consequent support</th>\n",
              "      <th>support</th>\n",
              "      <th>confidence</th>\n",
              "      <th>lift</th>\n",
              "      <th>leverage</th>\n",
              "      <th>conviction</th>\n",
              "    </tr>\n",
              "  </thead>\n",
              "  <tbody>\n",
              "    <tr>\n",
              "      <th>0</th>\n",
              "      <td>(whole milk)</td>\n",
              "      <td>(bottled beer)</td>\n",
              "      <td>0.181445</td>\n",
              "      <td>0.054860</td>\n",
              "      <td>0.010472</td>\n",
              "      <td>0.057715</td>\n",
              "      <td>1.052039</td>\n",
              "      <td>0.000518</td>\n",
              "      <td>1.003030</td>\n",
              "    </tr>\n",
              "    <tr>\n",
              "      <th>1</th>\n",
              "      <td>(bottled beer)</td>\n",
              "      <td>(whole milk)</td>\n",
              "      <td>0.054860</td>\n",
              "      <td>0.181445</td>\n",
              "      <td>0.010472</td>\n",
              "      <td>0.190887</td>\n",
              "      <td>1.052039</td>\n",
              "      <td>0.000518</td>\n",
              "      <td>1.011670</td>\n",
              "    </tr>\n",
              "    <tr>\n",
              "      <th>2</th>\n",
              "      <td>(citrus fruit)</td>\n",
              "      <td>(whole milk)</td>\n",
              "      <td>0.060911</td>\n",
              "      <td>0.181445</td>\n",
              "      <td>0.011261</td>\n",
              "      <td>0.184881</td>\n",
              "      <td>1.018938</td>\n",
              "      <td>0.000209</td>\n",
              "      <td>1.004216</td>\n",
              "    </tr>\n",
              "    <tr>\n",
              "      <th>3</th>\n",
              "      <td>(whole milk)</td>\n",
              "      <td>(citrus fruit)</td>\n",
              "      <td>0.181445</td>\n",
              "      <td>0.060911</td>\n",
              "      <td>0.011261</td>\n",
              "      <td>0.062065</td>\n",
              "      <td>1.018938</td>\n",
              "      <td>0.000209</td>\n",
              "      <td>1.001230</td>\n",
              "    </tr>\n",
              "    <tr>\n",
              "      <th>4</th>\n",
              "      <td>(sausage)</td>\n",
              "      <td>(other vegetables)</td>\n",
              "      <td>0.074225</td>\n",
              "      <td>0.136531</td>\n",
              "      <td>0.010840</td>\n",
              "      <td>0.146048</td>\n",
              "      <td>1.069702</td>\n",
              "      <td>0.000706</td>\n",
              "      <td>1.011144</td>\n",
              "    </tr>\n",
              "  </tbody>\n",
              "</table>\n",
              "</div>\n",
              "      <button class=\"colab-df-convert\" onclick=\"convertToInteractive('df-d28cf5d9-f258-4018-924f-c0905e914a17')\"\n",
              "              title=\"Convert this dataframe to an interactive table.\"\n",
              "              style=\"display:none;\">\n",
              "        \n",
              "  <svg xmlns=\"http://www.w3.org/2000/svg\" height=\"24px\"viewBox=\"0 0 24 24\"\n",
              "       width=\"24px\">\n",
              "    <path d=\"M0 0h24v24H0V0z\" fill=\"none\"/>\n",
              "    <path d=\"M18.56 5.44l.94 2.06.94-2.06 2.06-.94-2.06-.94-.94-2.06-.94 2.06-2.06.94zm-11 1L8.5 8.5l.94-2.06 2.06-.94-2.06-.94L8.5 2.5l-.94 2.06-2.06.94zm10 10l.94 2.06.94-2.06 2.06-.94-2.06-.94-.94-2.06-.94 2.06-2.06.94z\"/><path d=\"M17.41 7.96l-1.37-1.37c-.4-.4-.92-.59-1.43-.59-.52 0-1.04.2-1.43.59L10.3 9.45l-7.72 7.72c-.78.78-.78 2.05 0 2.83L4 21.41c.39.39.9.59 1.41.59.51 0 1.02-.2 1.41-.59l7.78-7.78 2.81-2.81c.8-.78.8-2.07 0-2.86zM5.41 20L4 18.59l7.72-7.72 1.47 1.35L5.41 20z\"/>\n",
              "  </svg>\n",
              "      </button>\n",
              "      \n",
              "  <style>\n",
              "    .colab-df-container {\n",
              "      display:flex;\n",
              "      flex-wrap:wrap;\n",
              "      gap: 12px;\n",
              "    }\n",
              "\n",
              "    .colab-df-convert {\n",
              "      background-color: #E8F0FE;\n",
              "      border: none;\n",
              "      border-radius: 50%;\n",
              "      cursor: pointer;\n",
              "      display: none;\n",
              "      fill: #1967D2;\n",
              "      height: 32px;\n",
              "      padding: 0 0 0 0;\n",
              "      width: 32px;\n",
              "    }\n",
              "\n",
              "    .colab-df-convert:hover {\n",
              "      background-color: #E2EBFA;\n",
              "      box-shadow: 0px 1px 2px rgba(60, 64, 67, 0.3), 0px 1px 3px 1px rgba(60, 64, 67, 0.15);\n",
              "      fill: #174EA6;\n",
              "    }\n",
              "\n",
              "    [theme=dark] .colab-df-convert {\n",
              "      background-color: #3B4455;\n",
              "      fill: #D2E3FC;\n",
              "    }\n",
              "\n",
              "    [theme=dark] .colab-df-convert:hover {\n",
              "      background-color: #434B5C;\n",
              "      box-shadow: 0px 1px 3px 1px rgba(0, 0, 0, 0.15);\n",
              "      filter: drop-shadow(0px 1px 2px rgba(0, 0, 0, 0.3));\n",
              "      fill: #FFFFFF;\n",
              "    }\n",
              "  </style>\n",
              "\n",
              "      <script>\n",
              "        const buttonEl =\n",
              "          document.querySelector('#df-d28cf5d9-f258-4018-924f-c0905e914a17 button.colab-df-convert');\n",
              "        buttonEl.style.display =\n",
              "          google.colab.kernel.accessAllowed ? 'block' : 'none';\n",
              "\n",
              "        async function convertToInteractive(key) {\n",
              "          const element = document.querySelector('#df-d28cf5d9-f258-4018-924f-c0905e914a17');\n",
              "          const dataTable =\n",
              "            await google.colab.kernel.invokeFunction('convertToInteractive',\n",
              "                                                     [key], {});\n",
              "          if (!dataTable) return;\n",
              "\n",
              "          const docLinkHtml = 'Like what you see? Visit the ' +\n",
              "            '<a target=\"_blank\" href=https://colab.research.google.com/notebooks/data_table.ipynb>data table notebook</a>'\n",
              "            + ' to learn more about interactive tables.';\n",
              "          element.innerHTML = '';\n",
              "          dataTable['output_type'] = 'display_data';\n",
              "          await google.colab.output.renderOutput(dataTable, element);\n",
              "          const docLink = document.createElement('div');\n",
              "          docLink.innerHTML = docLinkHtml;\n",
              "          element.appendChild(docLink);\n",
              "        }\n",
              "      </script>\n",
              "    </div>\n",
              "  </div>\n",
              "  "
            ]
          },
          "metadata": {},
          "execution_count": 65
        }
      ]
    },
    {
      "cell_type": "code",
      "source": [
        "len(rules)"
      ],
      "metadata": {
        "colab": {
          "base_uri": "https://localhost:8080/"
        },
        "id": "4O5Ov5BZCFdr",
        "outputId": "4fc7b25f-59c9-4a78-b5e8-5f53f7794adb"
      },
      "execution_count": null,
      "outputs": [
        {
          "output_type": "execute_result",
          "data": {
            "text/plain": [
              "18"
            ]
          },
          "metadata": {},
          "execution_count": 66
        }
      ]
    },
    {
      "cell_type": "code",
      "source": [
        "rules.consequents.unique()"
      ],
      "metadata": {
        "colab": {
          "base_uri": "https://localhost:8080/"
        },
        "id": "4IFJBWMxCLuw",
        "outputId": "117bdb2d-392c-490b-ec9f-95e03d61331a"
      },
      "execution_count": null,
      "outputs": [
        {
          "output_type": "execute_result",
          "data": {
            "text/plain": [
              "array([frozenset({'bottled beer'}), frozenset({'whole milk'}),\n",
              "       frozenset({'citrus fruit'}), frozenset({'other vegetables'}),\n",
              "       frozenset({'sausage'}),\n",
              "       frozenset({'other vegetables & whole milk'}), frozenset({'soda'}),\n",
              "       frozenset({'yogurt'})], dtype=object)"
            ]
          },
          "metadata": {},
          "execution_count": 67
        }
      ]
    },
    {
      "cell_type": "code",
      "source": [
        "plt.scatter(rules['support'], rules['confidence'], alpha=0.5)\n",
        "plt.xlabel('support')\n",
        "plt.ylabel('confidence')\n",
        "plt.title('Support vs Confidence')\n",
        "plt.show()"
      ],
      "metadata": {
        "colab": {
          "base_uri": "https://localhost:8080/",
          "height": 295
        },
        "id": "juITE6eTCLrk",
        "outputId": "c3ae7615-4e2b-49b0-f5ce-7543917f5b95"
      },
      "execution_count": null,
      "outputs": [
        {
          "output_type": "display_data",
          "data": {
            "text/plain": [
              "<Figure size 432x288 with 1 Axes>"
            ],
            "image/png": "[encoded data removed]"
          },
          "metadata": {
            "needs_background": "light"
          }
        }
      ]
    },
    {
      "cell_type": "code",
      "source": [
        "plt.scatter(rules['support'], rules['lift'], alpha=0.5)\n",
        "plt.xlabel('support')\n",
        "plt.ylabel('lift')\n",
        "plt.title('Support vs Lift')\n",
        "plt.show()"
      ],
      "metadata": {
        "colab": {
          "base_uri": "https://localhost:8080/",
          "height": 295
        },
        "id": "qPnrQNWHCLor",
        "outputId": "d591eacf-19bf-40ce-c8c2-f848ed189b30"
      },
      "execution_count": null,
      "outputs": [
        {
          "output_type": "display_data",
          "data": {
            "text/plain": [
              "<Figure size 432x288 with 1 Axes>"
            ],
            "image/png": "[encoded data removed]"
          },
          "metadata": {
            "needs_background": "light"
          }
        }
      ]
    },
    {
      "cell_type": "code",
      "source": [
        "fit = np.polyfit(rules['lift'], rules['confidence'], 1)\n",
        "fit_fn = np.poly1d(fit)\n",
        "plt.plot(rules['lift'], rules['confidence'], 'yo', rules['lift'],fit_fn(rules['lift']))"
      ],
      "metadata": {
        "colab": {
          "base_uri": "https://localhost:8080/",
          "height": 300
        },
        "id": "_680HU9uCS-e",
        "outputId": "da5dbf8b-537e-4045-c649-cb96720d057e"
      },
      "execution_count": null,
      "outputs": [
        {
          "output_type": "execute_result",
          "data": {
            "text/plain": [
              "[<matplotlib.lines.Line2D at 0x7f8caee041f0>,\n",
              " <matplotlib.lines.Line2D at 0x7f8caee041c0>]"
            ]
          },
          "metadata": {},
          "execution_count": 70
        },
        {
          "output_type": "display_data",
          "data": {
            "text/plain": [
              "<Figure size 432x288 with 1 Axes>"
            ],
            "image/png": "[encoded data removed]"
          },
          "metadata": {
            "needs_background": "light"
          }
        }
      ]
    },
    {
      "cell_type": "code",
      "source": [
        "targeted_rules = rules[rules['consequents'] == {'whole milk'}].copy()"
      ],
      "metadata": {
        "id": "crNPJaU1CVUn"
      },
      "execution_count": null,
      "outputs": []
    },
    {
      "cell_type": "code",
      "source": [
        "targeted_rules"
      ],
      "metadata": {
        "colab": {
          "base_uri": "https://localhost:8080/",
          "height": 206
        },
        "id": "LskLlh7mCXyF",
        "outputId": "4236102e-3929-4b6c-bc62-7291e4856f9a"
      },
      "execution_count": null,
      "outputs": [
        {
          "output_type": "execute_result",
          "data": {
            "text/plain": [
              "                        antecedents   consequents  antecedent support  \\\n",
              "1                    (bottled beer)  (whole milk)            0.054860   \n",
              "2                    (citrus fruit)  (whole milk)            0.060911   \n",
              "11                        (sausage)  (whole milk)            0.074225   \n",
              "14                         (yogurt)  (whole milk)            0.100931   \n",
              "17  (other vegetables & whole milk)  (whole milk)            0.021944   \n",
              "\n",
              "    consequent support   support  confidence      lift  leverage  conviction  \n",
              "1             0.181445  0.010472    0.190887  1.052039  0.000518    1.011670  \n",
              "2             0.181445  0.011261    0.184881  1.018938  0.000209    1.004216  \n",
              "11            0.181445  0.014998    0.202056  1.113593  0.001530    1.025830  \n",
              "14            0.181445  0.018392    0.182221  1.004277  0.000078    1.000949  \n",
              "17            0.181445  0.021944    1.000000  5.511311  0.017962         inf  "
            ],
            "text/html": [
              "\n",
              "  <div id=\"df-29524ddf-3ec6-42c2-ab18-6172fe0375e7\">\n",
              "    <div class=\"colab-df-container\">\n",
              "      <div>\n",
              "<style scoped>\n",
              "    .dataframe tbody tr th:only-of-type {\n",
              "        vertical-align: middle;\n",
              "    }\n",
              "\n",
              "    .dataframe tbody tr th {\n",
              "        vertical-align: top;\n",
              "    }\n",
              "\n",
              "    .dataframe thead th {\n",
              "        text-align: right;\n",
              "    }\n",
              "</style>\n",
              "<table border=\"1\" class=\"dataframe\">\n",
              "  <thead>\n",
              "    <tr style=\"text-align: right;\">\n",
              "      <th></th>\n",
              "      <th>antecedents</th>\n",
              "      <th>consequents</th>\n",
              "      <th>antecedent support</th>\n",
              "      <th>consequent support</th>\n",
              "      <th>support</th>\n",
              "      <th>confidence</th>\n",
              "      <th>lift</th>\n",
              "      <th>leverage</th>\n",
              "      <th>conviction</th>\n",
              "    </tr>\n",
              "  </thead>\n",
              "  <tbody>\n",
              "    <tr>\n",
              "      <th>1</th>\n",
              "      <td>(bottled beer)</td>\n",
              "      <td>(whole milk)</td>\n",
              "      <td>0.054860</td>\n",
              "      <td>0.181445</td>\n",
              "      <td>0.010472</td>\n",
              "      <td>0.190887</td>\n",
              "      <td>1.052039</td>\n",
              "      <td>0.000518</td>\n",
              "      <td>1.011670</td>\n",
              "    </tr>\n",
              "    <tr>\n",
              "      <th>2</th>\n",
              "      <td>(citrus fruit)</td>\n",
              "      <td>(whole milk)</td>\n",
              "      <td>0.060911</td>\n",
              "      <td>0.181445</td>\n",
              "      <td>0.011261</td>\n",
              "      <td>0.184881</td>\n",
              "      <td>1.018938</td>\n",
              "      <td>0.000209</td>\n",
              "      <td>1.004216</td>\n",
              "    </tr>\n",
              "    <tr>\n",
              "      <th>11</th>\n",
              "      <td>(sausage)</td>\n",
              "      <td>(whole milk)</td>\n",
              "      <td>0.074225</td>\n",
              "      <td>0.181445</td>\n",
              "      <td>0.014998</td>\n",
              "      <td>0.202056</td>\n",
              "      <td>1.113593</td>\n",
              "      <td>0.001530</td>\n",
              "      <td>1.025830</td>\n",
              "    </tr>\n",
              "    <tr>\n",
              "      <th>14</th>\n",
              "      <td>(yogurt)</td>\n",
              "      <td>(whole milk)</td>\n",
              "      <td>0.100931</td>\n",
              "      <td>0.181445</td>\n",
              "      <td>0.018392</td>\n",
              "      <td>0.182221</td>\n",
              "      <td>1.004277</td>\n",
              "      <td>0.000078</td>\n",
              "      <td>1.000949</td>\n",
              "    </tr>\n",
              "    <tr>\n",
              "      <th>17</th>\n",
              "      <td>(other vegetables &amp; whole milk)</td>\n",
              "      <td>(whole milk)</td>\n",
              "      <td>0.021944</td>\n",
              "      <td>0.181445</td>\n",
              "      <td>0.021944</td>\n",
              "      <td>1.000000</td>\n",
              "      <td>5.511311</td>\n",
              "      <td>0.017962</td>\n",
              "      <td>inf</td>\n",
              "    </tr>\n",
              "  </tbody>\n",
              "</table>\n",
              "</div>\n",
              "      <button class=\"colab-df-convert\" onclick=\"convertToInteractive('df-29524ddf-3ec6-42c2-ab18-6172fe0375e7')\"\n",
              "              title=\"Convert this dataframe to an interactive table.\"\n",
              "              style=\"display:none;\">\n",
              "        \n",
              "  <svg xmlns=\"http://www.w3.org/2000/svg\" height=\"24px\"viewBox=\"0 0 24 24\"\n",
              "       width=\"24px\">\n",
              "    <path d=\"M0 0h24v24H0V0z\" fill=\"none\"/>\n",
              "    <path d=\"M18.56 5.44l.94 2.06.94-2.06 2.06-.94-2.06-.94-.94-2.06-.94 2.06-2.06.94zm-11 1L8.5 8.5l.94-2.06 2.06-.94-2.06-.94L8.5 2.5l-.94 2.06-2.06.94zm10 10l.94 2.06.94-2.06 2.06-.94-2.06-.94-.94-2.06-.94 2.06-2.06.94z\"/><path d=\"M17.41 7.96l-1.37-1.37c-.4-.4-.92-.59-1.43-.59-.52 0-1.04.2-1.43.59L10.3 9.45l-7.72 7.72c-.78.78-.78 2.05 0 2.83L4 21.41c.39.39.9.59 1.41.59.51 0 1.02-.2 1.41-.59l7.78-7.78 2.81-2.81c.8-.78.8-2.07 0-2.86zM5.41 20L4 18.59l7.72-7.72 1.47 1.35L5.41 20z\"/>\n",
              "  </svg>\n",
              "      </button>\n",
              "      \n",
              "  <style>\n",
              "    .colab-df-container {\n",
              "      display:flex;\n",
              "      flex-wrap:wrap;\n",
              "      gap: 12px;\n",
              "    }\n",
              "\n",
              "    .colab-df-convert {\n",
              "      background-color: #E8F0FE;\n",
              "      border: none;\n",
              "      border-radius: 50%;\n",
              "      cursor: pointer;\n",
              "      display: none;\n",
              "      fill: #1967D2;\n",
              "      height: 32px;\n",
              "      padding: 0 0 0 0;\n",
              "      width: 32px;\n",
              "    }\n",
              "\n",
              "    .colab-df-convert:hover {\n",
              "      background-color: #E2EBFA;\n",
              "      box-shadow: 0px 1px 2px rgba(60, 64, 67, 0.3), 0px 1px 3px 1px rgba(60, 64, 67, 0.15);\n",
              "      fill: #174EA6;\n",
              "    }\n",
              "\n",
              "    [theme=dark] .colab-df-convert {\n",
              "      background-color: #3B4455;\n",
              "      fill: #D2E3FC;\n",
              "    }\n",
              "\n",
              "    [theme=dark] .colab-df-convert:hover {\n",
              "      background-color: #434B5C;\n",
              "      box-shadow: 0px 1px 3px 1px rgba(0, 0, 0, 0.15);\n",
              "      filter: drop-shadow(0px 1px 2px rgba(0, 0, 0, 0.3));\n",
              "      fill: #FFFFFF;\n",
              "    }\n",
              "  </style>\n",
              "\n",
              "      <script>\n",
              "        const buttonEl =\n",
              "          document.querySelector('#df-29524ddf-3ec6-42c2-ab18-6172fe0375e7 button.colab-df-convert');\n",
              "        buttonEl.style.display =\n",
              "          google.colab.kernel.accessAllowed ? 'block' : 'none';\n",
              "\n",
              "        async function convertToInteractive(key) {\n",
              "          const element = document.querySelector('#df-29524ddf-3ec6-42c2-ab18-6172fe0375e7');\n",
              "          const dataTable =\n",
              "            await google.colab.kernel.invokeFunction('convertToInteractive',\n",
              "                                                     [key], {});\n",
              "          if (!dataTable) return;\n",
              "\n",
              "          const docLinkHtml = 'Like what you see? Visit the ' +\n",
              "            '<a target=\"_blank\" href=https://colab.research.google.com/notebooks/data_table.ipynb>data table notebook</a>'\n",
              "            + ' to learn more about interactive tables.';\n",
              "          element.innerHTML = '';\n",
              "          dataTable['output_type'] = 'display_data';\n",
              "          await google.colab.output.renderOutput(dataTable, element);\n",
              "          const docLink = document.createElement('div');\n",
              "          docLink.innerHTML = docLinkHtml;\n",
              "          element.appendChild(docLink);\n",
              "        }\n",
              "      </script>\n",
              "    </div>\n",
              "  </div>\n",
              "  "
            ]
          },
          "metadata": {},
          "execution_count": 72
        }
      ]
    },
    {
      "cell_type": "code",
      "source": [
        "filtered_rules = targeted_rules[(targeted_rules['antecedent support'] > 0.01) &\n",
        "(targeted_rules['support'] > 0.009) &\n",
        "(targeted_rules['confidence'] > 0.85) &\n",
        "(targeted_rules['lift'] > 1.00)]"
      ],
      "metadata": {
        "id": "92dgwECWCXnB"
      },
      "execution_count": null,
      "outputs": []
    },
    {
      "cell_type": "code",
      "source": [
        "print(filtered_rules['antecedents'])"
      ],
      "metadata": {
        "colab": {
          "base_uri": "https://localhost:8080/"
        },
        "id": "wn3onPY-CcRL",
        "outputId": "740240bc-a272-48f6-fd99-40d594eee30b"
      },
      "execution_count": null,
      "outputs": [
        {
          "output_type": "stream",
          "name": "stdout",
          "text": [
            "17    (other vegetables & whole milk)\n",
            "Name: antecedents, dtype: object\n"
          ]
        }
      ]
    },
    {
      "cell_type": "code",
      "source": [
        "frequent_itemsets = apriori(onehot, min_support=0.01,use_colnames=True, max_len=2)"
      ],
      "metadata": {
        "id": "_eR2EzMzCdOL"
      },
      "execution_count": null,
      "outputs": []
    },
    {
      "cell_type": "code",
      "source": [
        "len(frequent_itemsets )"
      ],
      "metadata": {
        "colab": {
          "base_uri": "https://localhost:8080/"
        },
        "id": "MosUPSGRCdLY",
        "outputId": "cab03c24-8e05-4c29-f973-6f0c6874d491"
      },
      "execution_count": null,
      "outputs": [
        {
          "output_type": "execute_result",
          "data": {
            "text/plain": [
              "91"
            ]
          },
          "metadata": {},
          "execution_count": 76
        }
      ]
    },
    {
      "cell_type": "code",
      "source": [
        "rules = association_rules(frequent_itemsets,metric = \"support\",min_threshold = 0.0)"
      ],
      "metadata": {
        "id": "cy2y-qwRCdIQ"
      },
      "execution_count": null,
      "outputs": []
    },
    {
      "cell_type": "code",
      "source": [
        "len(rules)"
      ],
      "metadata": {
        "colab": {
          "base_uri": "https://localhost:8080/"
        },
        "id": "ggz8a1-pCdE3",
        "outputId": "584c3b8a-fdc6-45c9-f429-adf20b90605f"
      },
      "execution_count": null,
      "outputs": [
        {
          "output_type": "execute_result",
          "data": {
            "text/plain": [
              "42"
            ]
          },
          "metadata": {},
          "execution_count": 78
        }
      ]
    },
    {
      "cell_type": "code",
      "source": [
        "rules['antecedents'] = rules['antecedents'].apply(lambda a: ','.join(list(a)))\n",
        "rules['consequents'] = rules['consequents'].apply(lambda a: ','.join(list(a)))"
      ],
      "metadata": {
        "id": "CzTeY0IPCoIi"
      },
      "execution_count": null,
      "outputs": []
    },
    {
      "cell_type": "code",
      "source": [
        "print(rules[['antecedents','consequents']].head())"
      ],
      "metadata": {
        "colab": {
          "base_uri": "https://localhost:8080/"
        },
        "id": "Fh_yrBTdCoE9",
        "outputId": "60edb469-de04-4170-ef6d-7d916ccf2b80"
      },
      "execution_count": null,
      "outputs": [
        {
          "output_type": "stream",
          "name": "stdout",
          "text": [
            "     antecedents    consequents\n",
            "0     whole milk   bottled beer\n",
            "1   bottled beer     whole milk\n",
            "2     whole milk  bottled water\n",
            "3  bottled water     whole milk\n",
            "4   citrus fruit     whole milk\n"
          ]
        }
      ]
    },
    {
      "cell_type": "code",
      "source": [
        "support_table = rules.pivot(index='consequents', columns='antecedents',values='support')"
      ],
      "metadata": {
        "id": "zBjS0HoVCoBs"
      },
      "execution_count": null,
      "outputs": []
    },
    {
      "cell_type": "code",
      "source": [
        "support_table.head()"
      ],
      "metadata": {
        "colab": {
          "base_uri": "https://localhost:8080/",
          "height": 440
        },
        "id": "NonNiG7VCn9w",
        "outputId": "6623ee8b-f285-4668-e72f-1d5904e05329"
      },
      "execution_count": null,
      "outputs": [
        {
          "output_type": "execute_result",
          "data": {
            "text/plain": [
              "antecedents                    bottled beer  bottled water  citrus fruit  \\\n",
              "consequents                                                                \n",
              "bottled beer                            NaN            NaN           NaN   \n",
              "bottled water                           NaN            NaN           NaN   \n",
              "citrus fruit                            NaN            NaN           NaN   \n",
              "other vegetables                        NaN            NaN           NaN   \n",
              "other vegetables & whole milk           NaN            NaN           NaN   \n",
              "\n",
              "antecedents                    other vegetables  \\\n",
              "consequents                                       \n",
              "bottled beer                                NaN   \n",
              "bottled water                               NaN   \n",
              "citrus fruit                                NaN   \n",
              "other vegetables                            NaN   \n",
              "other vegetables & whole milk          0.021944   \n",
              "\n",
              "antecedents                    other vegetables & whole milk  pastry  \\\n",
              "consequents                                                            \n",
              "bottled beer                                             NaN     NaN   \n",
              "bottled water                                            NaN     NaN   \n",
              "citrus fruit                                             NaN     NaN   \n",
              "other vegetables                                    0.021944     NaN   \n",
              "other vegetables & whole milk                            NaN     NaN   \n",
              "\n",
              "antecedents                    rolls/buns  root vegetables  sausage      soda  \\\n",
              "consequents                                                                     \n",
              "bottled beer                          NaN              NaN      NaN       NaN   \n",
              "bottled water                         NaN              NaN      NaN       NaN   \n",
              "citrus fruit                          NaN              NaN      NaN       NaN   \n",
              "other vegetables                 0.015576              NaN  0.01084  0.013945   \n",
              "other vegetables & whole milk         NaN              NaN      NaN       NaN   \n",
              "\n",
              "antecedents                    tropical fruit  whole milk    yogurt  \n",
              "consequents                                                          \n",
              "bottled beer                              NaN    0.010472       NaN  \n",
              "bottled water                             NaN    0.010209       NaN  \n",
              "citrus fruit                              NaN    0.011261       NaN  \n",
              "other vegetables                          NaN    0.021944  0.012288  \n",
              "other vegetables & whole milk             NaN    0.021944       NaN  "
            ],
            "text/html": [
              "\n",
              "  <div id=\"df-05fcacb3-6e3b-4954-8cbf-aa4d9945cf77\">\n",
              "    <div class=\"colab-df-container\">\n",
              "      <div>\n",
              "<style scoped>\n",
              "    .dataframe tbody tr th:only-of-type {\n",
              "        vertical-align: middle;\n",
              "    }\n",
              "\n",
              "    .dataframe tbody tr th {\n",
              "        vertical-align: top;\n",
              "    }\n",
              "\n",
              "    .dataframe thead th {\n",
              "        text-align: right;\n",
              "    }\n",
              "</style>\n",
              "<table border=\"1\" class=\"dataframe\">\n",
              "  <thead>\n",
              "    <tr style=\"text-align: right;\">\n",
              "      <th>antecedents</th>\n",
              "      <th>bottled beer</th>\n",
              "      <th>bottled water</th>\n",
              "      <th>citrus fruit</th>\n",
              "      <th>other vegetables</th>\n",
              "      <th>other vegetables &amp; whole milk</th>\n",
              "      <th>pastry</th>\n",
              "      <th>rolls/buns</th>\n",
              "      <th>root vegetables</th>\n",
              "      <th>sausage</th>\n",
              "      <th>soda</th>\n",
              "      <th>tropical fruit</th>\n",
              "      <th>whole milk</th>\n",
              "      <th>yogurt</th>\n",
              "    </tr>\n",
              "    <tr>\n",
              "      <th>consequents</th>\n",
              "      <th></th>\n",
              "      <th></th>\n",
              "      <th></th>\n",
              "      <th></th>\n",
              "      <th></th>\n",
              "      <th></th>\n",
              "      <th></th>\n",
              "      <th></th>\n",
              "      <th></th>\n",
              "      <th></th>\n",
              "      <th></th>\n",
              "      <th></th>\n",
              "      <th></th>\n",
              "    </tr>\n",
              "  </thead>\n",
              "  <tbody>\n",
              "    <tr>\n",
              "      <th>bottled beer</th>\n",
              "      <td>NaN</td>\n",
              "      <td>NaN</td>\n",
              "      <td>NaN</td>\n",
              "      <td>NaN</td>\n",
              "      <td>NaN</td>\n",
              "      <td>NaN</td>\n",
              "      <td>NaN</td>\n",
              "      <td>NaN</td>\n",
              "      <td>NaN</td>\n",
              "      <td>NaN</td>\n",
              "      <td>NaN</td>\n",
              "      <td>0.010472</td>\n",
              "      <td>NaN</td>\n",
              "    </tr>\n",
              "    <tr>\n",
              "      <th>bottled water</th>\n",
              "      <td>NaN</td>\n",
              "      <td>NaN</td>\n",
              "      <td>NaN</td>\n",
              "      <td>NaN</td>\n",
              "      <td>NaN</td>\n",
              "      <td>NaN</td>\n",
              "      <td>NaN</td>\n",
              "      <td>NaN</td>\n",
              "      <td>NaN</td>\n",
              "      <td>NaN</td>\n",
              "      <td>NaN</td>\n",
              "      <td>0.010209</td>\n",
              "      <td>NaN</td>\n",
              "    </tr>\n",
              "    <tr>\n",
              "      <th>citrus fruit</th>\n",
              "      <td>NaN</td>\n",
              "      <td>NaN</td>\n",
              "      <td>NaN</td>\n",
              "      <td>NaN</td>\n",
              "      <td>NaN</td>\n",
              "      <td>NaN</td>\n",
              "      <td>NaN</td>\n",
              "      <td>NaN</td>\n",
              "      <td>NaN</td>\n",
              "      <td>NaN</td>\n",
              "      <td>NaN</td>\n",
              "      <td>0.011261</td>\n",
              "      <td>NaN</td>\n",
              "    </tr>\n",
              "    <tr>\n",
              "      <th>other vegetables</th>\n",
              "      <td>NaN</td>\n",
              "      <td>NaN</td>\n",
              "      <td>NaN</td>\n",
              "      <td>NaN</td>\n",
              "      <td>0.021944</td>\n",
              "      <td>NaN</td>\n",
              "      <td>0.015576</td>\n",
              "      <td>NaN</td>\n",
              "      <td>0.01084</td>\n",
              "      <td>0.013945</td>\n",
              "      <td>NaN</td>\n",
              "      <td>0.021944</td>\n",
              "      <td>0.012288</td>\n",
              "    </tr>\n",
              "    <tr>\n",
              "      <th>other vegetables &amp; whole milk</th>\n",
              "      <td>NaN</td>\n",
              "      <td>NaN</td>\n",
              "      <td>NaN</td>\n",
              "      <td>0.021944</td>\n",
              "      <td>NaN</td>\n",
              "      <td>NaN</td>\n",
              "      <td>NaN</td>\n",
              "      <td>NaN</td>\n",
              "      <td>NaN</td>\n",
              "      <td>NaN</td>\n",
              "      <td>NaN</td>\n",
              "      <td>0.021944</td>\n",
              "      <td>NaN</td>\n",
              "    </tr>\n",
              "  </tbody>\n",
              "</table>\n",
              "</div>\n",
              "      <button class=\"colab-df-convert\" onclick=\"convertToInteractive('df-05fcacb3-6e3b-4954-8cbf-aa4d9945cf77')\"\n",
              "              title=\"Convert this dataframe to an interactive table.\"\n",
              "              style=\"display:none;\">\n",
              "        \n",
              "  <svg xmlns=\"http://www.w3.org/2000/svg\" height=\"24px\"viewBox=\"0 0 24 24\"\n",
              "       width=\"24px\">\n",
              "    <path d=\"M0 0h24v24H0V0z\" fill=\"none\"/>\n",
              "    <path d=\"M18.56 5.44l.94 2.06.94-2.06 2.06-.94-2.06-.94-.94-2.06-.94 2.06-2.06.94zm-11 1L8.5 8.5l.94-2.06 2.06-.94-2.06-.94L8.5 2.5l-.94 2.06-2.06.94zm10 10l.94 2.06.94-2.06 2.06-.94-2.06-.94-.94-2.06-.94 2.06-2.06.94z\"/><path d=\"M17.41 7.96l-1.37-1.37c-.4-.4-.92-.59-1.43-.59-.52 0-1.04.2-1.43.59L10.3 9.45l-7.72 7.72c-.78.78-.78 2.05 0 2.83L4 21.41c.39.39.9.59 1.41.59.51 0 1.02-.2 1.41-.59l7.78-7.78 2.81-2.81c.8-.78.8-2.07 0-2.86zM5.41 20L4 18.59l7.72-7.72 1.47 1.35L5.41 20z\"/>\n",
              "  </svg>\n",
              "      </button>\n",
              "      \n",
              "  <style>\n",
              "    .colab-df-container {\n",
              "      display:flex;\n",
              "      flex-wrap:wrap;\n",
              "      gap: 12px;\n",
              "    }\n",
              "\n",
              "    .colab-df-convert {\n",
              "      background-color: #E8F0FE;\n",
              "      border: none;\n",
              "      border-radius: 50%;\n",
              "      cursor: pointer;\n",
              "      display: none;\n",
              "      fill: #1967D2;\n",
              "      height: 32px;\n",
              "      padding: 0 0 0 0;\n",
              "      width: 32px;\n",
              "    }\n",
              "\n",
              "    .colab-df-convert:hover {\n",
              "      background-color: #E2EBFA;\n",
              "      box-shadow: 0px 1px 2px rgba(60, 64, 67, 0.3), 0px 1px 3px 1px rgba(60, 64, 67, 0.15);\n",
              "      fill: #174EA6;\n",
              "    }\n",
              "\n",
              "    [theme=dark] .colab-df-convert {\n",
              "      background-color: #3B4455;\n",
              "      fill: #D2E3FC;\n",
              "    }\n",
              "\n",
              "    [theme=dark] .colab-df-convert:hover {\n",
              "      background-color: #434B5C;\n",
              "      box-shadow: 0px 1px 3px 1px rgba(0, 0, 0, 0.15);\n",
              "      filter: drop-shadow(0px 1px 2px rgba(0, 0, 0, 0.3));\n",
              "      fill: #FFFFFF;\n",
              "    }\n",
              "  </style>\n",
              "\n",
              "      <script>\n",
              "        const buttonEl =\n",
              "          document.querySelector('#df-05fcacb3-6e3b-4954-8cbf-aa4d9945cf77 button.colab-df-convert');\n",
              "        buttonEl.style.display =\n",
              "          google.colab.kernel.accessAllowed ? 'block' : 'none';\n",
              "\n",
              "        async function convertToInteractive(key) {\n",
              "          const element = document.querySelector('#df-05fcacb3-6e3b-4954-8cbf-aa4d9945cf77');\n",
              "          const dataTable =\n",
              "            await google.colab.kernel.invokeFunction('convertToInteractive',\n",
              "                                                     [key], {});\n",
              "          if (!dataTable) return;\n",
              "\n",
              "          const docLinkHtml = 'Like what you see? Visit the ' +\n",
              "            '<a target=\"_blank\" href=https://colab.research.google.com/notebooks/data_table.ipynb>data table notebook</a>'\n",
              "            + ' to learn more about interactive tables.';\n",
              "          element.innerHTML = '';\n",
              "          dataTable['output_type'] = 'display_data';\n",
              "          await google.colab.output.renderOutput(dataTable, element);\n",
              "          const docLink = document.createElement('div');\n",
              "          docLink.innerHTML = docLinkHtml;\n",
              "          element.appendChild(docLink);\n",
              "        }\n",
              "      </script>\n",
              "    </div>\n",
              "  </div>\n",
              "  "
            ]
          },
          "metadata": {},
          "execution_count": 82
        }
      ]
    },
    {
      "cell_type": "code",
      "source": [
        "plt.figure(figsize=(10,8))\n",
        "sns.heatmap(support_table, cmap= \"tab20\", annot=True, linewidths= 2, linecolor= 'black')\n",
        "plt.show()"
      ],
      "metadata": {
        "colab": {
          "base_uri": "https://localhost:8080/",
          "height": 54
        },
        "id": "tLFNr76HCwBl",
        "outputId": "3b86d4b9-c2a9-47bf-f299-179d02db6456"
      },
      "execution_count": null,
      "outputs": [
        {
          "output_type": "display_data",
          "data": {
            "text/plain": [
              "<Figure size 720x576 with 2 Axes>"
            ],
            "image/png": "[encoded data removed]"
          },
          "metadata": {
            "needs_background": "light"
          }
        }
      ]
    },
    {
      "cell_type": "code",
      "source": [
        "sns.scatterplot(x=\"antecedent support\", y=\"consequent support\", data=rules)"
      ],
      "metadata": {
        "colab": {
          "base_uri": "https://localhost:8080/",
          "height": 124
        },
        "id": "YwWRIMruC04S",
        "outputId": "3e07c493-5d5c-484e-c036-538d547b5bd0"
      },
      "execution_count": null,
      "outputs": [
        {
          "output_type": "execute_result",
          "data": {
            "text/plain": [
              "<AxesSubplot:xlabel='antecedent support', ylabel='consequent support'>"
            ]
          },
          "metadata": {},
          "execution_count": 84
        },
        {
          "output_type": "display_data",
          "data": {
            "text/plain": [
              "<Figure size 432x288 with 1 Axes>"
            ],
            "image/png": "[encoded data removed]"
          },
          "metadata": {
            "needs_background": "light"
          }
        }
      ]
    },
    {
      "cell_type": "code",
      "source": [
        "sns.scatterplot(x=\"antecedent support\",y=\"consequent support\",size=\"lift\",data=rules)"
      ],
      "metadata": {
        "colab": {
          "base_uri": "https://localhost:8080/",
          "height": 296
        },
        "id": "pnfTlZH-C01k",
        "outputId": "0015aed5-f068-4cc1-87bf-faac3107020c"
      },
      "execution_count": null,
      "outputs": [
        {
          "output_type": "execute_result",
          "data": {
            "text/plain": [
              "<AxesSubplot:xlabel='antecedent support', ylabel='consequent support'>"
            ]
          },
          "metadata": {},
          "execution_count": 85
        },
        {
          "output_type": "display_data",
          "data": {
            "text/plain": [
              "<Figure size 432x288 with 1 Axes>"
            ],
            "image/png": "[encoded data removed]"
          },
          "metadata": {
            "needs_background": "light"
          }
        }
      ]
    },
    {
      "cell_type": "code",
      "source": [
        "frequent_itemsets = apriori(onehot, min_support=0.01,use_colnames=True, max_len=2)"
      ],
      "metadata": {
        "id": "E4c3JKeOC0yv"
      },
      "execution_count": null,
      "outputs": []
    },
    {
      "cell_type": "code",
      "source": [
        "rules = association_rules(frequent_itemsets,metric = 'lift', min_threshold = 1.00)"
      ],
      "metadata": {
        "id": "XtVaPLbGC6Cc"
      },
      "execution_count": null,
      "outputs": []
    },
    {
      "cell_type": "code",
      "source": [
        "rules['antecedent'] = rules['antecedents'].apply(lambda antecedent: list(antecedent)[0])\n",
        "rules['consequent'] = rules['consequents'].apply(lambda consequent: list(consequent)[0])\n",
        "rules['rule'] = rules.index"
      ],
      "metadata": {
        "id": "pgF4OjTPC6AT"
      },
      "execution_count": null,
      "outputs": []
    },
    {
      "cell_type": "code",
      "source": [
        "coords = rules[['antecedent','consequent','rule']]\n",
        "# Print example\n",
        "print(coords.head(1))"
      ],
      "metadata": {
        "colab": {
          "base_uri": "https://localhost:8080/"
        },
        "id": "MM8xdFvCC5-E",
        "outputId": "9f31b6ed-a1c6-4295-f49b-67542baaf36b"
      },
      "execution_count": null,
      "outputs": [
        {
          "output_type": "stream",
          "name": "stdout",
          "text": [
            "   antecedent    consequent  rule\n",
            "0  whole milk  bottled beer     0\n"
          ]
        }
      ]
    },
    {
      "cell_type": "code",
      "source": [
        "plt.figure(figsize= (10,6), dpi= 150)\n",
        "ax= parallel_coordinates(coords, 'rule', colormap = 'ocean')\n",
        "leg = plt.legend()\n",
        " \n",
        "ax.get_legend().remove()\n",
        "plt.show()"
      ],
      "metadata": {
        "colab": {
          "base_uri": "https://localhost:8080/",
          "height": 680
        },
        "id": "FEbvMjqcC54n",
        "outputId": "7ba504cf-0037-4655-cc67-39c79e9eb57f"
      },
      "execution_count": null,
      "outputs": [
        {
          "output_type": "display_data",
          "data": {
            "text/plain": [
              "<Figure size 1500x900 with 1 Axes>"
            ],
            "image/png": "[encoded data removed]"
          },
          "metadata": {
            "needs_background": "light"
          }
        }
      ]
    },
    {
      "cell_type": "code",
      "source": [
        "def zhangs_rule(rules):\n",
        "    rule_support = rules['support'].copy()\n",
        "    rule_ante = rules['antecedent support'].copy()\n",
        "    rule_conseq = rules['consequent support'].copy()\n",
        "    num = rule_support - (rule_ante * rule_conseq)\n",
        "    denom = np.max((rule_support * (1 - rule_ante).values, \n",
        "                          rule_ante * (rule_conseq - rule_support).values), axis = 0)\n",
        "    return num / denom\n",
        "\n",
        "rules_zhangs_list = zhangs_rule(rules)\n",
        "rules = rules.assign(zhang = rules_zhangs_list)"
      ],
      "metadata": {
        "id": "siPXEU0aDHcE"
      },
      "execution_count": null,
      "outputs": []
    },
    {
      "cell_type": "code",
      "source": [
        "rules.head()"
      ],
      "metadata": {
        "colab": {
          "base_uri": "https://localhost:8080/",
          "height": 206
        },
        "id": "Te3wEpTWDMhi",
        "outputId": "e3343532-3386-4bac-ea83-eddbe47e19fe"
      },
      "execution_count": null,
      "outputs": [
        {
          "output_type": "execute_result",
          "data": {
            "text/plain": [
              "      antecedents         consequents  antecedent support  consequent support  \\\n",
              "0    (whole milk)      (bottled beer)            0.181445            0.054860   \n",
              "1  (bottled beer)        (whole milk)            0.054860            0.181445   \n",
              "2  (citrus fruit)        (whole milk)            0.060911            0.181445   \n",
              "3    (whole milk)      (citrus fruit)            0.181445            0.060911   \n",
              "4       (sausage)  (other vegetables)            0.074225            0.136531   \n",
              "\n",
              "    support  confidence      lift  leverage  conviction    antecedent  \\\n",
              "0  0.010472    0.057715  1.052039  0.000518    1.003030    whole milk   \n",
              "1  0.010472    0.190887  1.052039  0.000518    1.011670  bottled beer   \n",
              "2  0.011261    0.184881  1.018938  0.000209    1.004216  citrus fruit   \n",
              "3  0.011261    0.062065  1.018938  0.000209    1.001230    whole milk   \n",
              "4  0.010840    0.146048  1.069702  0.000706    1.011144       sausage   \n",
              "\n",
              "         consequent  rule     zhang  \n",
              "0      bottled beer     0  0.060430  \n",
              "1        whole milk     1  0.052336  \n",
              "2        whole milk     2  0.019791  \n",
              "3      citrus fruit     3  0.022706  \n",
              "4  other vegetables     4  0.070384  "
            ],
            "text/html": [
              "\n",
              "  <div id=\"df-8903cd04-9e7a-446f-a89c-04f2e49a14bd\">\n",
              "    <div class=\"colab-df-container\">\n",
              "      <div>\n",
              "<style scoped>\n",
              "    .dataframe tbody tr th:only-of-type {\n",
              "        vertical-align: middle;\n",
              "    }\n",
              "\n",
              "    .dataframe tbody tr th {\n",
              "        vertical-align: top;\n",
              "    }\n",
              "\n",
              "    .dataframe thead th {\n",
              "        text-align: right;\n",
              "    }\n",
              "</style>\n",
              "<table border=\"1\" class=\"dataframe\">\n",
              "  <thead>\n",
              "    <tr style=\"text-align: right;\">\n",
              "      <th></th>\n",
              "      <th>antecedents</th>\n",
              "      <th>consequents</th>\n",
              "      <th>antecedent support</th>\n",
              "      <th>consequent support</th>\n",
              "      <th>support</th>\n",
              "      <th>confidence</th>\n",
              "      <th>lift</th>\n",
              "      <th>leverage</th>\n",
              "      <th>conviction</th>\n",
              "      <th>antecedent</th>\n",
              "      <th>consequent</th>\n",
              "      <th>rule</th>\n",
              "      <th>zhang</th>\n",
              "    </tr>\n",
              "  </thead>\n",
              "  <tbody>\n",
              "    <tr>\n",
              "      <th>0</th>\n",
              "      <td>(whole milk)</td>\n",
              "      <td>(bottled beer)</td>\n",
              "      <td>0.181445</td>\n",
              "      <td>0.054860</td>\n",
              "      <td>0.010472</td>\n",
              "      <td>0.057715</td>\n",
              "      <td>1.052039</td>\n",
              "      <td>0.000518</td>\n",
              "      <td>1.003030</td>\n",
              "      <td>whole milk</td>\n",
              "      <td>bottled beer</td>\n",
              "      <td>0</td>\n",
              "      <td>0.060430</td>\n",
              "    </tr>\n",
              "    <tr>\n",
              "      <th>1</th>\n",
              "      <td>(bottled beer)</td>\n",
              "      <td>(whole milk)</td>\n",
              "      <td>0.054860</td>\n",
              "      <td>0.181445</td>\n",
              "      <td>0.010472</td>\n",
              "      <td>0.190887</td>\n",
              "      <td>1.052039</td>\n",
              "      <td>0.000518</td>\n",
              "      <td>1.011670</td>\n",
              "      <td>bottled beer</td>\n",
              "      <td>whole milk</td>\n",
              "      <td>1</td>\n",
              "      <td>0.052336</td>\n",
              "    </tr>\n",
              "    <tr>\n",
              "      <th>2</th>\n",
              "      <td>(citrus fruit)</td>\n",
              "      <td>(whole milk)</td>\n",
              "      <td>0.060911</td>\n",
              "      <td>0.181445</td>\n",
              "      <td>0.011261</td>\n",
              "      <td>0.184881</td>\n",
              "      <td>1.018938</td>\n",
              "      <td>0.000209</td>\n",
              "      <td>1.004216</td>\n",
              "      <td>citrus fruit</td>\n",
              "      <td>whole milk</td>\n",
              "      <td>2</td>\n",
              "      <td>0.019791</td>\n",
              "    </tr>\n",
              "    <tr>\n",
              "      <th>3</th>\n",
              "      <td>(whole milk)</td>\n",
              "      <td>(citrus fruit)</td>\n",
              "      <td>0.181445</td>\n",
              "      <td>0.060911</td>\n",
              "      <td>0.011261</td>\n",
              "      <td>0.062065</td>\n",
              "      <td>1.018938</td>\n",
              "      <td>0.000209</td>\n",
              "      <td>1.001230</td>\n",
              "      <td>whole milk</td>\n",
              "      <td>citrus fruit</td>\n",
              "      <td>3</td>\n",
              "      <td>0.022706</td>\n",
              "    </tr>\n",
              "    <tr>\n",
              "      <th>4</th>\n",
              "      <td>(sausage)</td>\n",
              "      <td>(other vegetables)</td>\n",
              "      <td>0.074225</td>\n",
              "      <td>0.136531</td>\n",
              "      <td>0.010840</td>\n",
              "      <td>0.146048</td>\n",
              "      <td>1.069702</td>\n",
              "      <td>0.000706</td>\n",
              "      <td>1.011144</td>\n",
              "      <td>sausage</td>\n",
              "      <td>other vegetables</td>\n",
              "      <td>4</td>\n",
              "      <td>0.070384</td>\n",
              "    </tr>\n",
              "  </tbody>\n",
              "</table>\n",
              "</div>\n",
              "      <button class=\"colab-df-convert\" onclick=\"convertToInteractive('df-8903cd04-9e7a-446f-a89c-04f2e49a14bd')\"\n",
              "              title=\"Convert this dataframe to an interactive table.\"\n",
              "              style=\"display:none;\">\n",
              "        \n",
              "  <svg xmlns=\"http://www.w3.org/2000/svg\" height=\"24px\"viewBox=\"0 0 24 24\"\n",
              "       width=\"24px\">\n",
              "    <path d=\"M0 0h24v24H0V0z\" fill=\"none\"/>\n",
              "    <path d=\"M18.56 5.44l.94 2.06.94-2.06 2.06-.94-2.06-.94-.94-2.06-.94 2.06-2.06.94zm-11 1L8.5 8.5l.94-2.06 2.06-.94-2.06-.94L8.5 2.5l-.94 2.06-2.06.94zm10 10l.94 2.06.94-2.06 2.06-.94-2.06-.94-.94-2.06-.94 2.06-2.06.94z\"/><path d=\"M17.41 7.96l-1.37-1.37c-.4-.4-.92-.59-1.43-.59-.52 0-1.04.2-1.43.59L10.3 9.45l-7.72 7.72c-.78.78-.78 2.05 0 2.83L4 21.41c.39.39.9.59 1.41.59.51 0 1.02-.2 1.41-.59l7.78-7.78 2.81-2.81c.8-.78.8-2.07 0-2.86zM5.41 20L4 18.59l7.72-7.72 1.47 1.35L5.41 20z\"/>\n",
              "  </svg>\n",
              "      </button>\n",
              "      \n",
              "  <style>\n",
              "    .colab-df-container {\n",
              "      display:flex;\n",
              "      flex-wrap:wrap;\n",
              "      gap: 12px;\n",
              "    }\n",
              "\n",
              "    .colab-df-convert {\n",
              "      background-color: #E8F0FE;\n",
              "      border: none;\n",
              "      border-radius: 50%;\n",
              "      cursor: pointer;\n",
              "      display: none;\n",
              "      fill: #1967D2;\n",
              "      height: 32px;\n",
              "      padding: 0 0 0 0;\n",
              "      width: 32px;\n",
              "    }\n",
              "\n",
              "    .colab-df-convert:hover {\n",
              "      background-color: #E2EBFA;\n",
              "      box-shadow: 0px 1px 2px rgba(60, 64, 67, 0.3), 0px 1px 3px 1px rgba(60, 64, 67, 0.15);\n",
              "      fill: #174EA6;\n",
              "    }\n",
              "\n",
              "    [theme=dark] .colab-df-convert {\n",
              "      background-color: #3B4455;\n",
              "      fill: #D2E3FC;\n",
              "    }\n",
              "\n",
              "    [theme=dark] .colab-df-convert:hover {\n",
              "      background-color: #434B5C;\n",
              "      box-shadow: 0px 1px 3px 1px rgba(0, 0, 0, 0.15);\n",
              "      filter: drop-shadow(0px 1px 2px rgba(0, 0, 0, 0.3));\n",
              "      fill: #FFFFFF;\n",
              "    }\n",
              "  </style>\n",
              "\n",
              "      <script>\n",
              "        const buttonEl =\n",
              "          document.querySelector('#df-8903cd04-9e7a-446f-a89c-04f2e49a14bd button.colab-df-convert');\n",
              "        buttonEl.style.display =\n",
              "          google.colab.kernel.accessAllowed ? 'block' : 'none';\n",
              "\n",
              "        async function convertToInteractive(key) {\n",
              "          const element = document.querySelector('#df-8903cd04-9e7a-446f-a89c-04f2e49a14bd');\n",
              "          const dataTable =\n",
              "            await google.colab.kernel.invokeFunction('convertToInteractive',\n",
              "                                                     [key], {});\n",
              "          if (!dataTable) return;\n",
              "\n",
              "          const docLinkHtml = 'Like what you see? Visit the ' +\n",
              "            '<a target=\"_blank\" href=https://colab.research.google.com/notebooks/data_table.ipynb>data table notebook</a>'\n",
              "            + ' to learn more about interactive tables.';\n",
              "          element.innerHTML = '';\n",
              "          dataTable['output_type'] = 'display_data';\n",
              "          await google.colab.output.renderOutput(dataTable, element);\n",
              "          const docLink = document.createElement('div');\n",
              "          docLink.innerHTML = docLinkHtml;\n",
              "          element.appendChild(docLink);\n",
              "        }\n",
              "      </script>\n",
              "    </div>\n",
              "  </div>\n",
              "  "
            ]
          },
          "metadata": {},
          "execution_count": 92
        }
      ]
    }
  ],
  "metadata": {
    "kernelspec": {
      "display_name": "Python 3",
      "language": "python",
      "name": "python3"
    },
    "language_info": {
      "codemirror_mode": {
        "name": "ipython",
        "version": 3
      },
      "file_extension": ".py",
      "mimetype": "text/x-python",
      "name": "python",
      "nbconvert_exporter": "python",
      "pygments_lexer": "ipython3",
      "version": "3.7.3"
    },
    "colab": {
      "provenance": [],
      "include_colab_link": true
    }
  },
  "nbformat": 4,
  "nbformat_minor": 0
}